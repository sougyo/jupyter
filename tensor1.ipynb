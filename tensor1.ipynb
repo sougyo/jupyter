{
 "cells": [
  {
   "cell_type": "code",
   "execution_count": 1,
   "id": "aa319c5f-bc2d-4e13-b8c5-09ad79d8b2de",
   "metadata": {},
   "outputs": [
    {
     "name": "stdout",
     "output_type": "stream",
     "text": [
      "行列 A:\n",
      "Sym{PyCall.PyObject}[x 2; 1 3]\n",
      "\n",
      "行列式:\n",
      "3*x - 2\n",
      "\n",
      "逆行列:\n",
      "Sym{PyCall.PyObject}[-3/(2 - 3*x) 2/(2 - 3*x); 1/(2 - 3*x) -x/(2 - 3*x)]\n",
      "\n",
      "x = 2 での行列 A:\n",
      "Sym{PyCall.PyObject}[2 2; 1 3]\n"
     ]
    }
   ],
   "source": [
    "using SymPy\n",
    "using LinearAlgebra\n",
    "\n",
    "# シンボリック変数の定義\n",
    "@syms x\n",
    "\n",
    "# シンボリック行列の作成\n",
    "A = [x 2; 1 3]\n",
    "println(\"行列 A:\")\n",
    "println(A)\n",
    "\n",
    "# 行列式の計算\n",
    "det_A = det(A)\n",
    "println(\"\\n行列式:\")\n",
    "println(det_A)\n",
    "\n",
    "# 逆行列の計算\n",
    "inv_A = inv(A)\n",
    "println(\"\\n逆行列:\")\n",
    "println(inv_A)\n",
    "\n",
    "# 特定の値でxを置換\n",
    "x_val = 2\n",
    "# 行列の各要素に対してsubsを適用\n",
    "A_substituted = [subs(elem, x => x_val) for elem in A]\n",
    "println(\"\\nx = $x_val での行列 A:\")\n",
    "println(A_substituted)"
   ]
  },
  {
   "cell_type": "code",
   "execution_count": 14,
   "id": "7f9fca37-845b-47d9-bb85-24d59356c125",
   "metadata": {},
   "outputs": [
    {
     "data": {
      "text/latex": [
       "$\\left[\\begin{smallmatrix}- \\frac{3 x}{2 - 3 x} + \\frac{2}{2 - 3 x} & 0\\\\0 & - \\frac{3 x}{2 - 3 x} + \\frac{2}{2 - 3 x}\\end{smallmatrix}\\right]$"
      ],
      "text/plain": [
       "2×2 Matrix{Sym{PyCall.PyObject}}:\n",
       " -3*x/(2 - 3*x) + 2/(2 - 3*x)                             0\n",
       "                            0  -3*x/(2 - 3*x) + 2/(2 - 3*x)"
      ]
     },
     "execution_count": 14,
     "metadata": {},
     "output_type": "execute_result"
    }
   ],
   "source": [
    "A * inv_A"
   ]
  },
  {
   "cell_type": "code",
   "execution_count": 15,
   "id": "9e46ca0e-9baa-443f-acb6-6454ec248326",
   "metadata": {},
   "outputs": [
    {
     "data": {
      "text/latex": [
       "$\\left[\\begin{smallmatrix}x & 2\\\\1 & 3\\end{smallmatrix}\\right]$"
      ],
      "text/plain": [
       "2×2 Matrix{Sym{PyCall.PyObject}}:\n",
       " x  2\n",
       " 1  3"
      ]
     },
     "execution_count": 15,
     "metadata": {},
     "output_type": "execute_result"
    }
   ],
   "source": [
    "A"
   ]
  },
  {
   "cell_type": "code",
   "execution_count": 16,
   "id": "daba7a43-f5b6-42aa-bcb0-682dd2822dd4",
   "metadata": {},
   "outputs": [
    {
     "data": {
      "text/latex": [
       "$\\left[\\begin{smallmatrix}- \\frac{\\left(\\frac{x}{2} - \\frac{\\sqrt{x^{2} - 6 x + 17}}{2} - \\frac{3}{2}\\right) e^{\\frac{x}{2} - \\frac{\\sqrt{x^{2} - 6 x + 17}}{2} + \\frac{3}{2}}}{\\sqrt{x^{2} - 6 x + 17}} + \\frac{\\left(\\frac{x}{2} + \\frac{\\sqrt{x^{2} - 6 x + 17}}{2} - \\frac{3}{2}\\right) e^{\\frac{x}{2} + \\frac{\\sqrt{x^{2} - 6 x + 17}}{2} + \\frac{3}{2}}}{\\sqrt{x^{2} - 6 x + 17}} & \\frac{\\left(- x + \\sqrt{x^{2} - 6 x + 17} + 3\\right) \\left(\\frac{x}{2} + \\frac{\\sqrt{x^{2} - 6 x + 17}}{2} - \\frac{3}{2}\\right) e^{\\frac{x}{2} + \\frac{\\sqrt{x^{2} - 6 x + 17}}{2} + \\frac{3}{2}}}{2 \\sqrt{x^{2} - 6 x + 17}} + \\frac{\\left(\\frac{x}{2} - \\frac{\\sqrt{x^{2} - 6 x + 17}}{2} - \\frac{3}{2}\\right) \\left(x + \\sqrt{x^{2} - 6 x + 17} - 3\\right) e^{\\frac{x}{2} - \\frac{\\sqrt{x^{2} - 6 x + 17}}{2} + \\frac{3}{2}}}{2 \\sqrt{x^{2} - 6 x + 17}}\\\\- \\frac{e^{\\frac{x}{2} - \\frac{\\sqrt{x^{2} - 6 x + 17}}{2} + \\frac{3}{2}}}{\\sqrt{x^{2} - 6 x + 17}} + \\frac{e^{\\frac{x}{2} + \\frac{\\sqrt{x^{2} - 6 x + 17}}{2} + \\frac{3}{2}}}{\\sqrt{x^{2} - 6 x + 17}} & \\frac{\\left(- x + \\sqrt{x^{2} - 6 x + 17} + 3\\right) e^{\\frac{x}{2} + \\frac{\\sqrt{x^{2} - 6 x + 17}}{2} + \\frac{3}{2}}}{2 \\sqrt{x^{2} - 6 x + 17}} + \\frac{\\left(x + \\sqrt{x^{2} - 6 x + 17} - 3\\right) e^{\\frac{x}{2} - \\frac{\\sqrt{x^{2} - 6 x + 17}}{2} + \\frac{3}{2}}}{2 \\sqrt{x^{2} - 6 x + 17}}\\end{smallmatrix}\\right]$"
      ],
      "text/plain": [
       "2×2 Matrix{Sym{PyCall.PyObject}}:\n",
       " -(x/2 - sqrt(x^2 - 6*x + 17)/2 - 3/2)*exp(x/2 - sqrt(x^2 - 6*x + 17)/2 + 3/2)/sqrt(x^2 - 6*x + 17) + (x/2 + sqrt(x^2 - 6*x + 17)/2 - 3/2)*exp(x/2 + sqrt(x^2 - 6*x + 17)/2 + 3/2)/sqrt(x^2 - 6*x + 17)  …  (-x + sqrt(x^2 - 6*x + 17) + 3)*(x/2 + sqrt(x^2 - 6*x + 17)/2 - 3/2)*exp(x/2 + sqrt(x^2 - 6*x + 17)/2 + 3/2)/(2*sqrt(x^2 - 6*x + 17)) + (x/2 - sqrt(x^2 - 6*x + 17)/2 - 3/2)*(x + sqrt(x^2 - 6*x + 17) - 3)*exp(x/2 - sqrt(x^2 - 6*x + 17)/2 + 3/2)/(2*sqrt(x^2 - 6*x + 17))\n",
       "                                                                           -exp(x/2 - sqrt(x^2 - 6*x + 17)/2 + 3/2)/sqrt(x^2 - 6*x + 17) + exp(x/2 + sqrt(x^2 - 6*x + 17)/2 + 3/2)/sqrt(x^2 - 6*x + 17)                                                                               (-x + sqrt(x^2 - 6*x + 17) + 3)*exp(x/2 + sqrt(x^2 - 6*x + 17)/2 + 3/2)/(2*sqrt(x^2 - 6*x + 17)) + (x + sqrt(x^2 - 6*x + 17) - 3)*exp(x/2 - sqrt(x^2 - 6*x + 17)/2 + 3/2)/(2*sqrt(x^2 - 6*x + 17))"
      ]
     },
     "execution_count": 16,
     "metadata": {},
     "output_type": "execute_result"
    }
   ],
   "source": [
    "exp(A)"
   ]
  },
  {
   "cell_type": "code",
   "execution_count": 32,
   "id": "1ac00e1b-c8f3-44cc-9af3-8114ad7196ff",
   "metadata": {},
   "outputs": [
    {
     "data": {
      "text/latex": [
       "$\\left[\\begin{smallmatrix}\\frac{e^{i t}}{2} + \\frac{e^{- i t}}{2} & - \\frac{i e^{i t}}{2} + \\frac{i e^{- i t}}{2} & 0\\\\\\frac{i e^{i t}}{2} - \\frac{i e^{- i t}}{2} & \\frac{e^{i t}}{2} + \\frac{e^{- i t}}{2} & 0\\\\0 & 0 & 1\\end{smallmatrix}\\right]$"
      ],
      "text/plain": [
       "3×3 Matrix{Sym{PyCall.PyObject}}:\n",
       "     exp(I*t)/2 + exp(-I*t)/2  -I*exp(I*t)/2 + I*exp(-I*t)/2  0\n",
       " I*exp(I*t)/2 - I*exp(-I*t)/2       exp(I*t)/2 + exp(-I*t)/2  0\n",
       "                            0                              0  1"
      ]
     },
     "execution_count": 32,
     "metadata": {},
     "output_type": "execute_result"
    }
   ],
   "source": [
    "@syms t\n",
    "C = [0  1 0 ; -1  0 0; 0 0 0]\n",
    "X = exp(t * C)"
   ]
  },
  {
   "cell_type": "code",
   "execution_count": 35,
   "id": "3ab10dc9-aabe-48ed-b027-2e704163db25",
   "metadata": {},
   "outputs": [
    {
     "data": {
      "text/latex": [
       "$\\left[\\begin{smallmatrix}\\cos{\\left(t \\right)} & \\sin{\\left(t \\right)} & 0\\\\- \\sin{\\left(t \\right)} & \\cos{\\left(t \\right)} & 0\\\\0 & 0 & 1\\end{smallmatrix}\\right]$"
      ],
      "text/plain": [
       "3×3 Matrix{Sym{PyCall.PyObject}}:\n",
       "  cos(t)  sin(t)  0\n",
       " -sin(t)  cos(t)  0\n",
       "       0       0  1"
      ]
     },
     "execution_count": 35,
     "metadata": {},
     "output_type": "execute_result"
    }
   ],
   "source": [
    "map(simplify, X)"
   ]
  }
 ],
 "metadata": {
  "kernelspec": {
   "display_name": "Julia 1.9.3",
   "language": "julia",
   "name": "julia-1.9"
  },
  "language_info": {
   "file_extension": ".jl",
   "mimetype": "application/julia",
   "name": "julia",
   "version": "1.9.3"
  }
 },
 "nbformat": 4,
 "nbformat_minor": 5
}
