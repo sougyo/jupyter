{
 "cells": [
  {
   "cell_type": "code",
   "execution_count": 2,
   "id": "d37d2d68-0630-4e0a-b8ca-b9b1b361daff",
   "metadata": {},
   "outputs": [
    {
     "data": {
      "text/plain": [
       "true"
      ]
     },
     "execution_count": 2,
     "metadata": {},
     "output_type": "execute_result"
    }
   ],
   "source": [
    "using Pkg: Pkg\n",
    "Pkg.UPDATED_REGISTRY_THIS_SESSION[] = true"
   ]
  },
  {
   "cell_type": "code",
   "execution_count": 3,
   "id": "dd189e97-dc27-43d6-a7a6-34d109b8ec11",
   "metadata": {},
   "outputs": [
    {
     "name": "stderr",
     "output_type": "stream",
     "text": [
      "\u001b[32m\u001b[1m   Resolving\u001b[22m\u001b[39m package versions...\n",
      "\u001b[32m\u001b[1m    Updating\u001b[22m\u001b[39m `/opt/julia/environments/v1.9/Project.toml`\n",
      "  \u001b[90m[a8e43f4a] \u001b[39m\u001b[92m+ AbstractTensors v0.8.8\u001b[39m\n",
      "\u001b[32m\u001b[1m  No Changes\u001b[22m\u001b[39m to `/opt/julia/environments/v1.9/Manifest.toml`\n"
     ]
    }
   ],
   "source": [
    "Pkg.add(\"AbstractTensors\")"
   ]
  },
  {
   "cell_type": "code",
   "execution_count": 4,
   "id": "28c9c0ef-ef0a-4ab5-a5c8-761fba810c14",
   "metadata": {},
   "outputs": [],
   "source": [
    "using AbstractTensors"
   ]
  },
  {
   "cell_type": "code",
   "execution_count": 6,
   "id": "e63f934d-40a5-4286-b44b-9d2fbdf4fc22",
   "metadata": {},
   "outputs": [
    {
     "data": {
      "text/plain": [
       "3-element Values{3, Int64} with indices SOneTo(3):\n",
       " 1\n",
       " 2\n",
       " 3"
      ]
     },
     "execution_count": 6,
     "metadata": {},
     "output_type": "execute_result"
    }
   ],
   "source": [
    "v1 = Values(1, 2, 3)"
   ]
  },
  {
   "cell_type": "code",
   "execution_count": 8,
   "id": "a799fb91-24d0-4607-8194-605e2627a757",
   "metadata": {},
   "outputs": [
    {
     "data": {
      "text/plain": [
       "3-element Values{3, Float64} with indices SOneTo(3):\n",
       " 1.0\n",
       " 2.0\n",
       " 3.0"
      ]
     },
     "execution_count": 8,
     "metadata": {},
     "output_type": "execute_result"
    }
   ],
   "source": [
    "v2 = Values{3,Float64}(1, 2, 3) # length 3, eltype Float64"
   ]
  },
  {
   "cell_type": "code",
   "execution_count": 10,
   "id": "c9812465-0d81-4ef6-aa72-3bfbbf89537d",
   "metadata": {},
   "outputs": [],
   "source": [
    "using Symbolics"
   ]
  },
  {
   "cell_type": "code",
   "execution_count": 11,
   "id": "ed06cd9b-6fbf-414a-a33f-219c897eb92e",
   "metadata": {},
   "outputs": [
    {
     "data": {
      "text/latex": [
       "$$ \\begin{equation}\n",
       "\\left[\n",
       "\\begin{array}{c}\n",
       "x \\\\\n",
       "\\end{array}\n",
       "\\right]\n",
       "\\end{equation}\n",
       " $$"
      ],
      "text/plain": [
       "1-element Vector{Num}:\n",
       " x"
      ]
     },
     "execution_count": 11,
     "metadata": {},
     "output_type": "execute_result"
    }
   ],
   "source": [
    "@variables x"
   ]
  },
  {
   "cell_type": "code",
   "execution_count": 12,
   "id": "831bf4d6-5dbe-4ee1-ae5e-af416adcc9ef",
   "metadata": {},
   "outputs": [
    {
     "data": {
      "text/latex": [
       "$$ \\begin{equation}\n",
       "\\left[\n",
       "\\begin{array}{c}\n",
       "x \\\\\n",
       "x \\\\\n",
       "x \\\\\n",
       "\\end{array}\n",
       "\\right]\n",
       "\\end{equation}\n",
       " $$"
      ],
      "text/plain": [
       "3-element Values{3, Num} with indices SOneTo(3):\n",
       " x\n",
       " x\n",
       " x"
      ]
     },
     "execution_count": 12,
     "metadata": {},
     "output_type": "execute_result"
    }
   ],
   "source": [
    "v3 = Values(x, x, x)"
   ]
  },
  {
   "cell_type": "code",
   "execution_count": 13,
   "id": "d4964567-164b-4415-b2af-3fcf8a74454c",
   "metadata": {},
   "outputs": [
    {
     "data": {
      "text/latex": [
       "$$ \\begin{equation}\n",
       "\\frac{\\mathrm{d}}{\\mathrm{d}x} \\left[\n",
       "\\begin{array}{c}\n",
       "x \\\\\n",
       "x \\\\\n",
       "x \\\\\n",
       "\\end{array}\n",
       "\\right]\n",
       "\\end{equation}\n",
       " $$"
      ],
      "text/plain": [
       "Differential(x)(Num[x, x, x])"
      ]
     },
     "execution_count": 13,
     "metadata": {},
     "output_type": "execute_result"
    }
   ],
   "source": [
    "Differential(x)(v3)"
   ]
  },
  {
   "cell_type": "code",
   "execution_count": 14,
   "id": "50012edf-4925-4e0d-a2e9-941b27f85735",
   "metadata": {},
   "outputs": [
    {
     "ename": "LoadError",
     "evalue": "UndefVarError: `Tensor` not defined",
     "output_type": "error",
     "traceback": [
      "UndefVarError: `Tensor` not defined",
      "",
      "Stacktrace:",
      " [1] top-level scope",
      "   @ In[14]:1"
     ]
    }
   ],
   "source": [
    "g = Tensor{(2, 0)}([1 0; 0 1])"
   ]
  },
  {
   "cell_type": "code",
   "execution_count": 16,
   "id": "46611650-b004-4c59-9020-6ce08e6ff227",
   "metadata": {},
   "outputs": [
    {
     "ename": "LoadError",
     "evalue": "UndefVarError: `V` not defined",
     "output_type": "error",
     "traceback": [
      "UndefVarError: `V` not defined",
      "",
      "Stacktrace:",
      " [1] top-level scope",
      "   @ In[16]:1"
     ]
    }
   ],
   "source": []
  }
 ],
 "metadata": {
  "kernelspec": {
   "display_name": "Julia 1.9.3",
   "language": "julia",
   "name": "julia-1.9"
  },
  "language_info": {
   "file_extension": ".jl",
   "mimetype": "application/julia",
   "name": "julia",
   "version": "1.9.3"
  }
 },
 "nbformat": 4,
 "nbformat_minor": 5
}
