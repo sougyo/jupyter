{
 "cells": [
  {
   "cell_type": "code",
   "execution_count": 1,
   "id": "806ddd43-a783-4f7a-8191-99cd6bd1ec40",
   "metadata": {},
   "outputs": [
    {
     "data": {
      "text/plain": [
       "true"
      ]
     },
     "execution_count": 1,
     "metadata": {},
     "output_type": "execute_result"
    }
   ],
   "source": [
    "using Pkg: Pkg\n",
    "Pkg.UPDATED_REGISTRY_THIS_SESSION[] = true"
   ]
  },
  {
   "cell_type": "code",
   "execution_count": 8,
   "id": "7b915063-4da3-463b-ae44-e5a1250a04c5",
   "metadata": {},
   "outputs": [
    {
     "ename": "LoadError",
     "evalue": "MethodError: no method matching Num(::Int64)\nThe applicable method may be too new: running in world age 33488, while current world is 33760.\n\n\u001b[0mClosest candidates are:\n\u001b[0m  Num(::Any) (method too new to be called from this world context.)\n\u001b[0m\u001b[90m   @\u001b[39m \u001b[36mSymbolics\u001b[39m \u001b[90m/opt/julia/packages/Symbolics/OrNx6/src/\u001b[39m\u001b[90m\u001b[4mnum.jl:2\u001b[24m\u001b[39m\n\u001b[0m  Num(\u001b[91m::AbstractIrrational\u001b[39m) (method too new to be called from this world context.)\n\u001b[0m\u001b[90m   @\u001b[39m \u001b[36mSymbolics\u001b[39m \u001b[90m/opt/julia/packages/Symbolics/OrNx6/src/\u001b[39m\u001b[90m\u001b[4mnum.jl:114\u001b[24m\u001b[39m\n\u001b[0m  Num(\u001b[91m::Num\u001b[39m) (method too new to be called from this world context.)\n\u001b[0m\u001b[90m   @\u001b[39m \u001b[36mSymbolics\u001b[39m \u001b[90m/opt/julia/packages/Symbolics/OrNx6/src/\u001b[39m\u001b[90m\u001b[4mnum.jl:18\u001b[24m\u001b[39m\n",
     "output_type": "error",
     "traceback": [
      "MethodError: no method matching Num(::Int64)\nThe applicable method may be too new: running in world age 33488, while current world is 33760.\n\n\u001b[0mClosest candidates are:\n\u001b[0m  Num(::Any) (method too new to be called from this world context.)\n\u001b[0m\u001b[90m   @\u001b[39m \u001b[36mSymbolics\u001b[39m \u001b[90m/opt/julia/packages/Symbolics/OrNx6/src/\u001b[39m\u001b[90m\u001b[4mnum.jl:2\u001b[24m\u001b[39m\n\u001b[0m  Num(\u001b[91m::AbstractIrrational\u001b[39m) (method too new to be called from this world context.)\n\u001b[0m\u001b[90m   @\u001b[39m \u001b[36mSymbolics\u001b[39m \u001b[90m/opt/julia/packages/Symbolics/OrNx6/src/\u001b[39m\u001b[90m\u001b[4mnum.jl:114\u001b[24m\u001b[39m\n\u001b[0m  Num(\u001b[91m::Num\u001b[39m) (method too new to be called from this world context.)\n\u001b[0m\u001b[90m   @\u001b[39m \u001b[36mSymbolics\u001b[39m \u001b[90m/opt/julia/packages/Symbolics/OrNx6/src/\u001b[39m\u001b[90m\u001b[4mnum.jl:18\u001b[24m\u001b[39m\n",
      "",
      "Stacktrace:",
      "  [1] convert(#unused#::Type{Num}, x::Int64)",
      "    @ Base ./number.jl:7",
      "  [2] zero(#unused#::Type{Num})",
      "    @ Base ./number.jl:309",
      "  [3] macro expansion",
      "    @ /opt/julia/packages/StaticVectors/5Bx4S/src/arraymath.jl:17 [inlined]",
      "  [4] _zeros(#unused#::Val{3}, #unused#::Type{StaticVectors.FixedVector{3, Num, TData} where TData<:AbstractVector{Num}})",
      "    @ StaticVectors /opt/julia/packages/StaticVectors/5Bx4S/src/arraymath.jl:9",
      "  [5] zeros(#unused#::Type{StaticVectors.FixedVector{3, Num, TData} where TData<:AbstractVector{Num}})",
      "    @ StaticVectors /opt/julia/packages/StaticVectors/5Bx4S/src/arraymath.jl:8",
      "  [6] adder(a::Type{Single{⟨+++⟩, 1, v₁, Num}}, b::Type{Single{⟨+++⟩, 1, v₂, Num}}, op::Symbol)",
      "    @ Grassmann /opt/julia/packages/Grassmann/QkCEW/src/algebra.jl:751",
      "  [7] #s404#163",
      "    @ /opt/julia/packages/Grassmann/QkCEW/src/products.jl:837 [inlined]",
      "  [8] var\"#s404#163\"(V::Any, L::Any, G::Any, ::Any, a::Any, b::Any)",
      "    @ Grassmann ./none:0",
      "  [9] (::Core.GeneratedFunctionStub)(::Any, ::Vararg{Any})",
      "    @ Core ./boot.jl:602",
      " [10] +",
      "    @ /opt/julia/packages/AbstractTensors/rjoE8/src/AbstractTensors.jl:294 [inlined]",
      " [11] +(::Single{⟨+++⟩, 1, v₁, Num}, ::Single{⟨+++⟩, 1, v₂, Num}, ::Single{⟨+++⟩, 1, v₃, Num})",
      "    @ Base ./operators.jl:578",
      " [12] top-level scope",
      "    @ In[8]:11"
     ]
    }
   ],
   "source": [
    "using Grassmann\n",
    "using Symbolics\n",
    "\n",
    "# Grassmann.jl: 幾何代数空間の定義\n",
    "@basis ℝ^3 # 3次元空間の基底 (e1, e2, e3)\n",
    "\n",
    "# Symbolics.jl: シンボリック変数と関数の定義\n",
    "@variables x y z\n",
    "\n",
    "# 微分形式の定義\n",
    "ω = x * v₁ + y * v₂ + z * v₃"
   ]
  },
  {
   "cell_type": "code",
   "execution_count": 3,
   "id": "eac3a066-5a4e-43cd-8a9e-0939293a4e58",
   "metadata": {},
   "outputs": [
    {
     "data": {
      "text/plain": [
       "(⟨+++⟩, v, v₁, v₂, v₃, v₁₂, v₁₃, v₂₃, v₁₂₃)"
      ]
     },
     "execution_count": 3,
     "metadata": {},
     "output_type": "execute_result"
    }
   ],
   "source": [
    "@basis ℝ^3"
   ]
  },
  {
   "cell_type": "code",
   "execution_count": 11,
   "id": "f3988067-e9bd-450e-b747-b786ee1260ec",
   "metadata": {},
   "outputs": [
    {
     "data": {
      "text/latex": [
       "$$ \\begin{equation}\n",
       "dx dy + dx dz + dy dz\n",
       "\\end{equation}\n",
       " $$"
      ],
      "text/plain": [
       "dx*dy + dx*dz + dy*dz"
      ]
     },
     "execution_count": 11,
     "metadata": {},
     "output_type": "execute_result"
    }
   ],
   "source": [
    "@basis ℝ^3\n",
    "\n",
    "# シンボリック変数の定義\n",
    "@variables x y z\n",
    "@variables dx dy dz\n",
    "\n",
    "# 1-form の定義\n",
    "ω = x*dx + y*dy + z*dz\n",
    "\n",
    "# 2-form の定義\n",
    "α = dx∧dy + dy∧dz + dz∧dx\n"
   ]
  },
  {
   "cell_type": "code",
   "execution_count": 12,
   "id": "19700c44-a53f-49af-8ece-c0ce61049bd8",
   "metadata": {},
   "outputs": [
    {
     "data": {
      "text/plain": [
       "(⟨-+⟩*, v, v₁, w¹, v₁w¹)"
      ]
     },
     "execution_count": 12,
     "metadata": {},
     "output_type": "execute_result"
    }
   ],
   "source": [
    "@basis ℝ'⊕ℝ"
   ]
  },
  {
   "cell_type": "code",
   "execution_count": 13,
   "id": "c34a737a-d899-4b69-9f04-01c66e12fe87",
   "metadata": {},
   "outputs": [
    {
     "data": {
      "text/latex": [
       "$$ \\begin{equation}\n",
       "\\left[\n",
       "\\begin{array}{c}\n",
       "x \\\\\n",
       "y \\\\\n",
       "z \\\\\n",
       "\\end{array}\n",
       "\\right]\n",
       "\\end{equation}\n",
       " $$"
      ],
      "text/plain": [
       "3-element Vector{Num}:\n",
       " x\n",
       " y\n",
       " z"
      ]
     },
     "execution_count": 13,
     "metadata": {},
     "output_type": "execute_result"
    }
   ],
   "source": [
    "@variables x y z"
   ]
  },
  {
   "cell_type": "code",
   "execution_count": 16,
   "id": "52c422e3-2f01-43a4-b52a-3ff74387e99a",
   "metadata": {},
   "outputs": [
    {
     "data": {
      "text/plain": [
       "(2x)v₁"
      ]
     },
     "execution_count": 16,
     "metadata": {},
     "output_type": "execute_result"
    }
   ],
   "source": [
    "x * v₁ + x * v₁"
   ]
  },
  {
   "cell_type": "code",
   "execution_count": 17,
   "id": "b6a63625-2b00-4b9e-8188-f6999495ee46",
   "metadata": {},
   "outputs": [
    {
     "data": {
      "text/latex": [
       "$$ \\begin{equation}\n",
       "\\frac{\\mathrm{d}}{\\mathrm{d}x} (2x)v_1\n",
       "\\end{equation}\n",
       " $$"
      ],
      "text/plain": [
       "Differential(x)((2x)v₁)"
      ]
     },
     "execution_count": 17,
     "metadata": {},
     "output_type": "execute_result"
    }
   ],
   "source": [
    "Differential(x)(x * v₁ + x * v₁)"
   ]
  },
  {
   "cell_type": "code",
   "execution_count": 19,
   "id": "eae4660a-1975-4c59-aaa8-4ba8f093303d",
   "metadata": {},
   "outputs": [
    {
     "data": {
      "text/plain": [
       "0"
      ]
     },
     "execution_count": 19,
     "metadata": {},
     "output_type": "execute_result"
    }
   ],
   "source": [
    "expand_derivatives(Differential(x)(x * v₁ + x * v₁))"
   ]
  },
  {
   "cell_type": "code",
   "execution_count": null,
   "id": "0d2cd4ef-6ce0-41cb-88d9-5b3d421acf05",
   "metadata": {},
   "outputs": [],
   "source": []
  }
 ],
 "metadata": {
  "kernelspec": {
   "display_name": "Julia 1.9.3",
   "language": "julia",
   "name": "julia-1.9"
  },
  "language_info": {
   "file_extension": ".jl",
   "mimetype": "application/julia",
   "name": "julia",
   "version": "1.9.3"
  }
 },
 "nbformat": 4,
 "nbformat_minor": 5
}
