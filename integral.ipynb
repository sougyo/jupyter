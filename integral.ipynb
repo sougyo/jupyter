{
 "cells": [
  {
   "cell_type": "code",
   "execution_count": 1,
   "id": "4a790b8e-fd1d-4150-9754-93014fa852e4",
   "metadata": {},
   "outputs": [
    {
     "name": "stderr",
     "output_type": "stream",
     "text": [
      "\u001b[32m\u001b[1m   Resolving\u001b[22m\u001b[39m package versions...\n",
      "\u001b[32m\u001b[1m  No Changes\u001b[22m\u001b[39m to `/opt/julia/environments/v1.9/Project.toml`\n",
      "\u001b[32m\u001b[1m  No Changes\u001b[22m\u001b[39m to `/opt/julia/environments/v1.9/Manifest.toml`\n"
     ]
    }
   ],
   "source": [
    "import Pkg; Pkg.add(\"QuadGK\")"
   ]
  },
  {
   "cell_type": "code",
   "execution_count": 2,
   "id": "fdc37cc0-502b-4cff-bc18-7dbc16db523b",
   "metadata": {},
   "outputs": [
    {
     "name": "stdout",
     "output_type": "stream",
     "text": [
      "線積分の結果: 6.283185307179585\n"
     ]
    }
   ],
   "source": [
    "using QuadGK  # 数値積分用\n",
    "\n",
    "# パラメータとスカラー場の定義\n",
    "a = 1.0  # 半径\n",
    "\n",
    "# スカラー場\n",
    "f(x, y) = x^2 + y^2\n",
    "\n",
    "# パラメータ曲線 r(t) とその微分\n",
    "rx(t) = a * cos(t)\n",
    "ry(t) = a * sin(t)\n",
    "\n",
    "# 微小長 ds = |r'(t)| * dt\n",
    "drx(t) = -a * sin(t)  # dx/dt\n",
    "dry(t) =  a * cos(t)  # dy/dt\n",
    "ds(t) = sqrt(drx(t)^2 + dry(t)^2)\n",
    "\n",
    "# 線積分の定義\n",
    "function line_integral(f, rx, ry, ds, t_range)\n",
    "    integrand(t) = f(rx(t), ry(t)) * ds(t)  # 積分する関数\n",
    "    integral, _ = quadgk(integrand, t_range[1], t_range[2])  # 数値積分\n",
    "    return integral\n",
    "end\n",
    "\n",
    "# 積分範囲\n",
    "t_range = (0, 2π)\n",
    "\n",
    "# 線積分の計算\n",
    "result = line_integral(f, rx, ry, ds, t_range)\n",
    "\n",
    "println(\"線積分の結果: $result\")\n"
   ]
  }
 ],
 "metadata": {
  "kernelspec": {
   "display_name": "Julia 1.9.3",
   "language": "julia",
   "name": "julia-1.9"
  },
  "language_info": {
   "file_extension": ".jl",
   "mimetype": "application/julia",
   "name": "julia",
   "version": "1.9.3"
  }
 },
 "nbformat": 4,
 "nbformat_minor": 5
}
