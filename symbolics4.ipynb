{
 "cells": [
  {
   "cell_type": "code",
   "execution_count": 1,
   "id": "cd00e7a0-d41f-457c-9d54-d8a2d6bd91fc",
   "metadata": {},
   "outputs": [],
   "source": [
    "using Symbolics"
   ]
  },
  {
   "cell_type": "code",
   "execution_count": 2,
   "id": "ee551d40-a618-4e05-89c9-23d32dc91374",
   "metadata": {},
   "outputs": [
    {
     "data": {
      "text/latex": [
       "$$ \\begin{equation}\n",
       "\\left[\n",
       "\\begin{array}{c}\n",
       "G \\\\\n",
       "M \\\\\n",
       "\\end{array}\n",
       "\\right]\n",
       "\\end{equation}\n",
       " $$"
      ],
      "text/plain": [
       "2-element Vector{Num}:\n",
       " G\n",
       " M"
      ]
     },
     "execution_count": 2,
     "metadata": {},
     "output_type": "execute_result"
    }
   ],
   "source": [
    "@variables G M"
   ]
  },
  {
   "cell_type": "code",
   "execution_count": 3,
   "id": "3f39c009-72db-4d25-9c9c-dddb0deeb514",
   "metadata": {},
   "outputs": [
    {
     "data": {
      "text/plain": [
       "1-element Vector{Symbolics.Arr{Num, 1}}:\n",
       " x[1:4]"
      ]
     },
     "execution_count": 3,
     "metadata": {},
     "output_type": "execute_result"
    }
   ],
   "source": [
    "@variables x[1:4]"
   ]
  },
  {
   "cell_type": "code",
   "execution_count": 4,
   "id": "3ffd3b18-3249-41de-93a4-228bbba90c39",
   "metadata": {},
   "outputs": [
    {
     "data": {
      "text/latex": [
       "$$ \\begin{equation}\n",
       "\\left[\n",
       "\\begin{array}{c}\n",
       "t\\left( x_1, x_2, x_3, x_4 \\right) \\\\\n",
       "r\\left( x_1, x_2, x_3, x_4 \\right) \\\\\n",
       "\\theta\\left( x_1, x_2, x_3, x_4 \\right) \\\\\n",
       "\\varphi\\left( x_1, x_2, x_3, x_4 \\right) \\\\\n",
       "\\end{array}\n",
       "\\right]\n",
       "\\end{equation}\n",
       " $$"
      ],
      "text/plain": [
       "4-element Vector{Num}:\n",
       " t(x[1], x[2], x[3], x[4])\n",
       " r(x[1], x[2], x[3], x[4])\n",
       " θ(x[1], x[2], x[3], x[4])\n",
       " φ(x[1], x[2], x[3], x[4])"
      ]
     },
     "execution_count": 4,
     "metadata": {},
     "output_type": "execute_result"
    }
   ],
   "source": [
    "@variables t(x[1], x[2], x[3], x[4]) r(x[1], x[2], x[3], x[4]) θ(x[1], x[2], x[3], x[4]) φ(x[1], x[2], x[3], x[4])"
   ]
  },
  {
   "cell_type": "code",
   "execution_count": 5,
   "id": "80af60bc-e1bb-4989-a982-d2be30323a51",
   "metadata": {},
   "outputs": [],
   "source": [
    "t = x[1] ; r = x[2] ; θ = x[3] ; φ = x[4] ;"
   ]
  },
  {
   "cell_type": "code",
   "execution_count": 6,
   "id": "ebd66d77-c08b-401b-a853-4da26e11a4c2",
   "metadata": {},
   "outputs": [
    {
     "data": {
      "text/latex": [
       "$$ \\begin{equation}\n",
       "-1 + \\frac{2 G M}{x_2}\n",
       "\\end{equation}\n",
       " $$"
      ],
      "text/plain": [
       "-1 + (2G*M) / x[2]"
      ]
     },
     "execution_count": 6,
     "metadata": {},
     "output_type": "execute_result"
    }
   ],
   "source": [
    "g00 = - (1 - (2 * G * M) / r)"
   ]
  },
  {
   "cell_type": "code",
   "execution_count": 7,
   "id": "303c9921-5ffb-4e00-a7cb-19ec0905a5ab",
   "metadata": {},
   "outputs": [
    {
     "data": {
      "text/latex": [
       "$$ \\begin{equation}\n",
       "\\frac{1}{1 + \\frac{ - 2 G M}{x_2}}\n",
       "\\end{equation}\n",
       " $$"
      ],
      "text/plain": [
       "1 / (1 + (-2G*M) / x[2])"
      ]
     },
     "execution_count": 7,
     "metadata": {},
     "output_type": "execute_result"
    }
   ],
   "source": [
    "g11 = (1 - (2 * G * M) / r) ^ (-1)"
   ]
  },
  {
   "cell_type": "code",
   "execution_count": 8,
   "id": "dbcd6222-b1b5-4fe4-ba4d-538cdeba2360",
   "metadata": {},
   "outputs": [
    {
     "data": {
      "text/latex": [
       "$$ \\begin{equation}\n",
       "x_2^{2}\n",
       "\\end{equation}\n",
       " $$"
      ],
      "text/plain": [
       "x[2]^2"
      ]
     },
     "execution_count": 8,
     "metadata": {},
     "output_type": "execute_result"
    }
   ],
   "source": [
    "g22 = r^2"
   ]
  },
  {
   "cell_type": "code",
   "execution_count": 9,
   "id": "b989e921-95f8-4604-8081-cddc8eb63a93",
   "metadata": {},
   "outputs": [
    {
     "data": {
      "text/latex": [
       "$$ \\begin{equation}\n",
       "\\sin^{2}\\left( x_3 \\right) x_2^{2}\n",
       "\\end{equation}\n",
       " $$"
      ],
      "text/plain": [
       "(x[2]^2)*(sin(x[3])^2)"
      ]
     },
     "execution_count": 9,
     "metadata": {},
     "output_type": "execute_result"
    }
   ],
   "source": [
    "g33 = r^2 * sin(θ)^2"
   ]
  },
  {
   "cell_type": "code",
   "execution_count": 10,
   "id": "a73c7b96-100c-4712-b922-474325f2f936",
   "metadata": {},
   "outputs": [
    {
     "data": {
      "text/latex": [
       "$$ \\begin{equation}\n",
       "\\left[\n",
       "\\begin{array}{cccc}\n",
       "-1 + \\frac{2 G M}{x_2} & 0 & 0 & 0 \\\\\n",
       "0 & \\frac{1}{1 + \\frac{ - 2 G M}{x_2}} & 0 & 0 \\\\\n",
       "0 & 0 & x_2^{2} & 0 \\\\\n",
       "0 & 0 & 0 & \\sin^{2}\\left( x_3 \\right) x_2^{2} \\\\\n",
       "\\end{array}\n",
       "\\right]\n",
       "\\end{equation}\n",
       " $$"
      ],
      "text/plain": [
       "4×4 Matrix{Num}:\n",
       " -1 + (2G*M) / x[2]                         0       0                       0\n",
       "                  0  1 / (1 + (-2G*M) / x[2])       0                       0\n",
       "                  0                         0  x[2]^2                       0\n",
       "                  0                         0       0  (x[2]^2)*(sin(x[3])^2)"
      ]
     },
     "execution_count": 10,
     "metadata": {},
     "output_type": "execute_result"
    }
   ],
   "source": [
    "g = [ g00   0   0   0 ;\n",
    "        0 g11   0   0 ;\n",
    "        0   0 g22   0 ;\n",
    "        0   0   0  g33; ]"
   ]
  },
  {
   "cell_type": "code",
   "execution_count": 11,
   "id": "e6abba55-14cc-43e8-9cdc-f6f62fd8d7da",
   "metadata": {},
   "outputs": [
    {
     "data": {
      "text/latex": [
       "$$ \\begin{equation}\n",
       "\\left[\n",
       "\\begin{array}{cccc}\n",
       "\\frac{1}{-1 + \\frac{2 G M}{x_2}} & 0 & 0 & 0 \\\\\n",
       "0 & 1 + \\frac{ - 2 G M}{x_2} & 0 & 0 \\\\\n",
       "0 & 0 & \\frac{1}{x_2^{2}} & 0 \\\\\n",
       "0 & 0 & 0 & \\frac{1}{\\sin^{2}\\left( x_3 \\right) x_2^{2}} \\\\\n",
       "\\end{array}\n",
       "\\right]\n",
       "\\end{equation}\n",
       " $$"
      ],
      "text/plain": [
       "4×4 Matrix{Num}:\n",
       " 1 / (-1 + (2G*M) / x[2])  …                             0\n",
       "                        0                                0\n",
       "                        0                                0\n",
       "                        0     1 / ((x[2]^2)*(sin(x[3])^2))"
      ]
     },
     "execution_count": 11,
     "metadata": {},
     "output_type": "execute_result"
    }
   ],
   "source": [
    "g_inv = inv(g)"
   ]
  },
  {
   "cell_type": "code",
   "execution_count": 12,
   "id": "5768b45d-d572-4ff6-b03b-175dde63d9e9",
   "metadata": {},
   "outputs": [],
   "source": [
    "Γ = Dict()\n",
    "\n",
    "for i in 1:4, j in 1:4, k in 1:4\n",
    "    Γ_ijk = (1//2) * sum(\n",
    "        g_inv[i, l] * (\n",
    "            Differential(x[k])(g[l, j]) +\n",
    "            Differential(x[j])(g[l, k]) -\n",
    "            Differential(x[l])(g[j, k])\n",
    "        ) for l in 1:4\n",
    "    )\n",
    "    Γ[(i, j, k)] = simplify(expand_derivatives(Γ_ijk))\n",
    "end"
   ]
  },
  {
   "cell_type": "code",
   "execution_count": 13,
   "id": "66fea057-0198-479c-8920-b97e95ef288b",
   "metadata": {},
   "outputs": [
    {
     "name": "stdout",
     "output_type": "stream",
     "text": [
      "(i, j, k)=(1,1,2)"
     ]
    },
    {
     "data": {
      "text/latex": [
       "$$ \\begin{equation}\n",
       "\\frac{ - G M}{\\left(  - x_2 + 2 G M \\right) x_2}\n",
       "\\end{equation}\n",
       " $$"
      ],
      "text/plain": [
       "(-G*M) / ((-x[2] + 2G*M)*x[2])"
      ]
     },
     "metadata": {},
     "output_type": "display_data"
    },
    {
     "name": "stdout",
     "output_type": "stream",
     "text": [
      "(i, j, k)=(1,2,1)"
     ]
    },
    {
     "data": {
      "text/latex": [
       "$$ \\begin{equation}\n",
       "\\frac{ - G M}{\\left(  - x_2 + 2 G M \\right) x_2}\n",
       "\\end{equation}\n",
       " $$"
      ],
      "text/plain": [
       "(-G*M) / ((-x[2] + 2G*M)*x[2])"
      ]
     },
     "metadata": {},
     "output_type": "display_data"
    },
    {
     "name": "stdout",
     "output_type": "stream",
     "text": [
      "(i, j, k)=(2,1,1)"
     ]
    },
    {
     "data": {
      "text/latex": [
       "$$ \\begin{equation}\n",
       "\\frac{G \\left( x_2 - 2 G M \\right) M}{x_2^{3}}\n",
       "\\end{equation}\n",
       " $$"
      ],
      "text/plain": [
       "(G*(x[2] - 2G*M)*M) / (x[2]^3)"
      ]
     },
     "metadata": {},
     "output_type": "display_data"
    },
    {
     "name": "stdout",
     "output_type": "stream",
     "text": [
      "(i, j, k)=(2,2,2)"
     ]
    },
    {
     "data": {
      "text/latex": [
       "$$ \\begin{equation}\n",
       "\\frac{ - G M}{\\left( x_2 - 2 G M \\right) x_2}\n",
       "\\end{equation}\n",
       " $$"
      ],
      "text/plain": [
       "(-G*M) / ((x[2] - 2G*M)*x[2])"
      ]
     },
     "metadata": {},
     "output_type": "display_data"
    },
    {
     "name": "stdout",
     "output_type": "stream",
     "text": [
      "(i, j, k)=(2,3,3)"
     ]
    },
    {
     "data": {
      "text/latex": [
       "$$ \\begin{equation}\n",
       " - x_2 + 2 G M\n",
       "\\end{equation}\n",
       " $$"
      ],
      "text/plain": [
       "-x[2] + (2//1)*G*M"
      ]
     },
     "metadata": {},
     "output_type": "display_data"
    },
    {
     "name": "stdout",
     "output_type": "stream",
     "text": [
      "(i, j, k)=(2,4,4)"
     ]
    },
    {
     "data": {
      "text/latex": [
       "$$ \\begin{equation}\n",
       " - \\sin^{2}\\left( x_3 \\right) \\left( x_2 - 2 G M \\right)\n",
       "\\end{equation}\n",
       " $$"
      ],
      "text/plain": [
       "-(x[2] - 2G*M)*(sin(x[3])^2)"
      ]
     },
     "metadata": {},
     "output_type": "display_data"
    },
    {
     "name": "stdout",
     "output_type": "stream",
     "text": [
      "(i, j, k)=(3,2,3)"
     ]
    },
    {
     "data": {
      "text/latex": [
       "$$ \\begin{equation}\n",
       "\\frac{1}{x_2}\n",
       "\\end{equation}\n",
       " $$"
      ],
      "text/plain": [
       "1 / x[2]"
      ]
     },
     "metadata": {},
     "output_type": "display_data"
    },
    {
     "name": "stdout",
     "output_type": "stream",
     "text": [
      "(i, j, k)=(3,3,2)"
     ]
    },
    {
     "data": {
      "text/latex": [
       "$$ \\begin{equation}\n",
       "\\frac{1}{x_2}\n",
       "\\end{equation}\n",
       " $$"
      ],
      "text/plain": [
       "1 / x[2]"
      ]
     },
     "metadata": {},
     "output_type": "display_data"
    },
    {
     "name": "stdout",
     "output_type": "stream",
     "text": [
      "(i, j, k)=(3,4,4)"
     ]
    },
    {
     "data": {
      "text/latex": [
       "$$ \\begin{equation}\n",
       " - \\frac{1}{2} \\sin\\left( 2 x_3 \\right)\n",
       "\\end{equation}\n",
       " $$"
      ],
      "text/plain": [
       "(-1//2)*sin(2x[3])"
      ]
     },
     "metadata": {},
     "output_type": "display_data"
    },
    {
     "name": "stdout",
     "output_type": "stream",
     "text": [
      "(i, j, k)=(4,2,4)"
     ]
    },
    {
     "data": {
      "text/latex": [
       "$$ \\begin{equation}\n",
       "\\frac{1}{x_2}\n",
       "\\end{equation}\n",
       " $$"
      ],
      "text/plain": [
       "1 / x[2]"
      ]
     },
     "metadata": {},
     "output_type": "display_data"
    },
    {
     "name": "stdout",
     "output_type": "stream",
     "text": [
      "(i, j, k)=(4,3,4)"
     ]
    },
    {
     "data": {
      "text/latex": [
       "$$ \\begin{equation}\n",
       "\\frac{\\cos\\left( x_3 \\right)}{\\sin\\left( x_3 \\right)}\n",
       "\\end{equation}\n",
       " $$"
      ],
      "text/plain": [
       "cos(x[3]) / sin(x[3])"
      ]
     },
     "metadata": {},
     "output_type": "display_data"
    },
    {
     "name": "stdout",
     "output_type": "stream",
     "text": [
      "(i, j, k)=(4,4,2)"
     ]
    },
    {
     "data": {
      "text/latex": [
       "$$ \\begin{equation}\n",
       "\\frac{1}{x_2}\n",
       "\\end{equation}\n",
       " $$"
      ],
      "text/plain": [
       "1 / x[2]"
      ]
     },
     "metadata": {},
     "output_type": "display_data"
    },
    {
     "name": "stdout",
     "output_type": "stream",
     "text": [
      "(i, j, k)=(4,4,3)"
     ]
    },
    {
     "data": {
      "text/latex": [
       "$$ \\begin{equation}\n",
       "\\frac{\\cos\\left( x_3 \\right)}{\\sin\\left( x_3 \\right)}\n",
       "\\end{equation}\n",
       " $$"
      ],
      "text/plain": [
       "cos(x[3]) / sin(x[3])"
      ]
     },
     "metadata": {},
     "output_type": "display_data"
    }
   ],
   "source": [
    "for i in 1:4, j in 1:4, k in 1:4\n",
    "  val = Γ[(i, j, k)];\n",
    "  if !isequal(val, 0)\n",
    "    print(\"(i, j, k)=\", \"(\", i, \",\", j, \",\", k, \")\")\n",
    "    display(val)\n",
    "  end\n",
    "end"
   ]
  },
  {
   "cell_type": "code",
   "execution_count": 14,
   "id": "41d3b369-b49e-40e5-8d6b-98922ac375b5",
   "metadata": {},
   "outputs": [],
   "source": [
    "R_μ_αβγ = Dict()\n",
    "\n",
    "for α in 1:4, β in 1:4, γ in 1:4, μ in 1:4\n",
    "    tmp = Differential(x[β])(Γ[(μ,α,γ)]) -\n",
    "          Differential(x[γ])(Γ[(μ,α,β)]) +\n",
    "            sum(\n",
    "                Γ[(μ,λ,β)] * Γ[(λ,α,γ)] - Γ[(μ,λ,γ)] * Γ[(λ,α,β)]\n",
    "            for λ in 1:4)\n",
    "    R_μ_αβγ[(μ, α, β, γ)] = simplify(expand_derivatives(tmp))\n",
    "end"
   ]
  },
  {
   "cell_type": "code",
   "execution_count": 15,
   "id": "2cd4018d-a8ca-4643-85c0-3e31e9f997b0",
   "metadata": {},
   "outputs": [
    {
     "name": "stdout",
     "output_type": "stream",
     "text": [
      "(μ,α,β,γ)=(1,2,1,2)"
     ]
    },
    {
     "data": {
      "text/latex": [
       "$$ \\begin{equation}\n",
       "\\frac{ - 2 G M}{x_2^{2} \\left(  - x_2 + 2 G M \\right)}\n",
       "\\end{equation}\n",
       " $$"
      ],
      "text/plain": [
       "(-2G*M) / ((-x[2] + 2G*M)*(x[2]^2))"
      ]
     },
     "metadata": {},
     "output_type": "display_data"
    },
    {
     "name": "stdout",
     "output_type": "stream",
     "text": [
      "(μ,α,β,γ)=(1,2,2,1)"
     ]
    },
    {
     "data": {
      "text/latex": [
       "$$ \\begin{equation}\n",
       "\\frac{2 G M}{x_2^{2} \\left(  - x_2 + 2 G M \\right)}\n",
       "\\end{equation}\n",
       " $$"
      ],
      "text/plain": [
       "(2G*M) / ((-x[2] + 2G*M)*(x[2]^2))"
      ]
     },
     "metadata": {},
     "output_type": "display_data"
    },
    {
     "name": "stdout",
     "output_type": "stream",
     "text": [
      "(μ,α,β,γ)=(1,3,1,3)"
     ]
    },
    {
     "data": {
      "text/latex": [
       "$$ \\begin{equation}\n",
       "\\frac{ - G M}{x_2}\n",
       "\\end{equation}\n",
       " $$"
      ],
      "text/plain": [
       "(-G*M) / x[2]"
      ]
     },
     "metadata": {},
     "output_type": "display_data"
    },
    {
     "name": "stdout",
     "output_type": "stream",
     "text": [
      "(μ,α,β,γ)=(1,3,3,1)"
     ]
    },
    {
     "data": {
      "text/latex": [
       "$$ \\begin{equation}\n",
       "\\frac{G M}{x_2}\n",
       "\\end{equation}\n",
       " $$"
      ],
      "text/plain": [
       "(G*M) / x[2]"
      ]
     },
     "metadata": {},
     "output_type": "display_data"
    },
    {
     "name": "stdout",
     "output_type": "stream",
     "text": [
      "(μ,α,β,γ)=(1,4,1,4)"
     ]
    },
    {
     "data": {
      "text/latex": [
       "$$ \\begin{equation}\n",
       "\\frac{ - \\sin^{2}\\left( x_3 \\right) G M}{x_2}\n",
       "\\end{equation}\n",
       " $$"
      ],
      "text/plain": [
       "(-G*M*(sin(x[3])^2)) / x[2]"
      ]
     },
     "metadata": {},
     "output_type": "display_data"
    },
    {
     "name": "stdout",
     "output_type": "stream",
     "text": [
      "(μ,α,β,γ)=(1,4,4,1)"
     ]
    },
    {
     "data": {
      "text/latex": [
       "$$ \\begin{equation}\n",
       "\\frac{\\sin^{2}\\left( x_3 \\right) G M}{x_2}\n",
       "\\end{equation}\n",
       " $$"
      ],
      "text/plain": [
       "(G*M*(sin(x[3])^2)) / x[2]"
      ]
     },
     "metadata": {},
     "output_type": "display_data"
    },
    {
     "name": "stdout",
     "output_type": "stream",
     "text": [
      "(μ,α,β,γ)=(2,1,1,2)"
     ]
    },
    {
     "data": {
      "text/latex": [
       "$$ \\begin{equation}\n",
       "\\frac{2 G M x_2 - 4 M^{2} G^{2}}{x_2^{4}}\n",
       "\\end{equation}\n",
       " $$"
      ],
      "text/plain": [
       "((2//1)*G*M*x[2] - (4//1)*(G^2)*(M^2)) / (x[2]^4)"
      ]
     },
     "metadata": {},
     "output_type": "display_data"
    },
    {
     "name": "stdout",
     "output_type": "stream",
     "text": [
      "(μ,α,β,γ)=(2,1,2,1)"
     ]
    },
    {
     "data": {
      "text/latex": [
       "$$ \\begin{equation}\n",
       "\\frac{ - 2 G M x_2 + 4 M^{2} G^{2}}{x_2^{4}}\n",
       "\\end{equation}\n",
       " $$"
      ],
      "text/plain": [
       "(-(2//1)*G*M*x[2] + (4//1)*(G^2)*(M^2)) / (x[2]^4)"
      ]
     },
     "metadata": {},
     "output_type": "display_data"
    },
    {
     "name": "stdout",
     "output_type": "stream",
     "text": [
      "(μ,α,β,γ)=(2,3,2,3)"
     ]
    },
    {
     "data": {
      "text/latex": [
       "$$ \\begin{equation}\n",
       "\\frac{ - G M}{x_2}\n",
       "\\end{equation}\n",
       " $$"
      ],
      "text/plain": [
       "(-G*M) / x[2]"
      ]
     },
     "metadata": {},
     "output_type": "display_data"
    },
    {
     "name": "stdout",
     "output_type": "stream",
     "text": [
      "(μ,α,β,γ)=(2,3,3,2)"
     ]
    },
    {
     "data": {
      "text/latex": [
       "$$ \\begin{equation}\n",
       "\\frac{G M}{x_2}\n",
       "\\end{equation}\n",
       " $$"
      ],
      "text/plain": [
       "(G*M) / x[2]"
      ]
     },
     "metadata": {},
     "output_type": "display_data"
    },
    {
     "name": "stdout",
     "output_type": "stream",
     "text": [
      "(μ,α,β,γ)=(2,4,2,4)"
     ]
    },
    {
     "data": {
      "text/latex": [
       "$$ \\begin{equation}\n",
       "\\frac{ - \\sin^{2}\\left( x_3 \\right) G M}{x_2}\n",
       "\\end{equation}\n",
       " $$"
      ],
      "text/plain": [
       "(-G*M*(sin(x[3])^2)) / x[2]"
      ]
     },
     "metadata": {},
     "output_type": "display_data"
    },
    {
     "name": "stdout",
     "output_type": "stream",
     "text": [
      "(μ,α,β,γ)=(2,4,3,4)"
     ]
    },
    {
     "data": {
      "text/latex": [
       "$$ \\begin{equation}\n",
       "\\frac{1}{2} \\left( x_2 - 2 G M \\right) \\sin\\left( 2 x_3 \\right) + \\frac{1}{2} \\left(  - x_2 + 2 G M \\right) \\sin\\left( 2 x_3 \\right)\n",
       "\\end{equation}\n",
       " $$"
      ],
      "text/plain": [
       "(1//2)*(x[2] - 2G*M)*sin(2x[3]) + (1//2)*(-x[2] + (2//1)*G*M)*sin(2x[3])"
      ]
     },
     "metadata": {},
     "output_type": "display_data"
    },
    {
     "name": "stdout",
     "output_type": "stream",
     "text": [
      "(μ,α,β,γ)=(2,4,4,2)"
     ]
    },
    {
     "data": {
      "text/latex": [
       "$$ \\begin{equation}\n",
       "\\frac{\\sin^{2}\\left( x_3 \\right) G M}{x_2}\n",
       "\\end{equation}\n",
       " $$"
      ],
      "text/plain": [
       "(G*M*(sin(x[3])^2)) / x[2]"
      ]
     },
     "metadata": {},
     "output_type": "display_data"
    },
    {
     "name": "stdout",
     "output_type": "stream",
     "text": [
      "(μ,α,β,γ)=(3,1,1,3)"
     ]
    },
    {
     "data": {
      "text/latex": [
       "$$ \\begin{equation}\n",
       "\\frac{ - G \\left( x_2 - 2 G M \\right) M}{x_2^{4}}\n",
       "\\end{equation}\n",
       " $$"
      ],
      "text/plain": [
       "(-G*(x[2] - 2G*M)*M) / (x[2]^4)"
      ]
     },
     "metadata": {},
     "output_type": "display_data"
    },
    {
     "name": "stdout",
     "output_type": "stream",
     "text": [
      "(μ,α,β,γ)=(3,1,3,1)"
     ]
    },
    {
     "data": {
      "text/latex": [
       "$$ \\begin{equation}\n",
       "\\frac{G \\left( x_2 - 2 G M \\right) M}{x_2^{4}}\n",
       "\\end{equation}\n",
       " $$"
      ],
      "text/plain": [
       "(G*(x[2] - 2G*M)*M) / (x[2]^4)"
      ]
     },
     "metadata": {},
     "output_type": "display_data"
    },
    {
     "name": "stdout",
     "output_type": "stream",
     "text": [
      "(μ,α,β,γ)=(3,2,2,3)"
     ]
    },
    {
     "data": {
      "text/latex": [
       "$$ \\begin{equation}\n",
       "\\frac{G M}{x_2^{2} \\left( x_2 - 2 G M \\right)}\n",
       "\\end{equation}\n",
       " $$"
      ],
      "text/plain": [
       "(G*M) / ((x[2] - 2G*M)*(x[2]^2))"
      ]
     },
     "metadata": {},
     "output_type": "display_data"
    },
    {
     "name": "stdout",
     "output_type": "stream",
     "text": [
      "(μ,α,β,γ)=(3,2,3,2)"
     ]
    },
    {
     "data": {
      "text/latex": [
       "$$ \\begin{equation}\n",
       "\\frac{ - G M}{x_2^{2} \\left( x_2 - 2 G M \\right)}\n",
       "\\end{equation}\n",
       " $$"
      ],
      "text/plain": [
       "(-G*M) / ((x[2] - 2G*M)*(x[2]^2))"
      ]
     },
     "metadata": {},
     "output_type": "display_data"
    },
    {
     "name": "stdout",
     "output_type": "stream",
     "text": [
      "(μ,α,β,γ)=(3,4,3,4)"
     ]
    },
    {
     "data": {
      "text/latex": [
       "$$ \\begin{equation}\n",
       "\\frac{ - x_2 \\cos\\left( 2 x_3 \\right) \\sin\\left( x_3 \\right) + \\frac{1}{2} x_2 \\cos\\left( x_3 \\right) \\sin\\left( 2 x_3 \\right) - \\sin^{3}\\left( x_3 \\right) x_2 + 2 \\sin^{3}\\left( x_3 \\right) G M}{x_2 \\sin\\left( x_3 \\right)}\n",
       "\\end{equation}\n",
       " $$"
      ],
      "text/plain": [
       "(-x[2]*cos(2x[3])*sin(x[3]) + (1//2)*x[2]*cos(x[3])*sin(2x[3]) - x[2]*(sin(x[3])^3) + (2//1)*G*M*(sin(x[3])^3)) / (x[2]*sin(x[3]))"
      ]
     },
     "metadata": {},
     "output_type": "display_data"
    },
    {
     "name": "stdout",
     "output_type": "stream",
     "text": [
      "(μ,α,β,γ)=(3,4,4,3)"
     ]
    },
    {
     "data": {
      "text/latex": [
       "$$ \\begin{equation}\n",
       "\\frac{x_2 \\cos\\left( 2 x_3 \\right) \\sin\\left( x_3 \\right) - \\frac{1}{2} x_2 \\cos\\left( x_3 \\right) \\sin\\left( 2 x_3 \\right) + \\sin^{3}\\left( x_3 \\right) x_2 - 2 \\sin^{3}\\left( x_3 \\right) G M}{x_2 \\sin\\left( x_3 \\right)}\n",
       "\\end{equation}\n",
       " $$"
      ],
      "text/plain": [
       "(x[2]*cos(2x[3])*sin(x[3]) - (1//2)*x[2]*cos(x[3])*sin(2x[3]) + x[2]*(sin(x[3])^3) - (2//1)*G*M*(sin(x[3])^3)) / (x[2]*sin(x[3]))"
      ]
     },
     "metadata": {},
     "output_type": "display_data"
    },
    {
     "name": "stdout",
     "output_type": "stream",
     "text": [
      "(μ,α,β,γ)=(4,1,1,4)"
     ]
    },
    {
     "data": {
      "text/latex": [
       "$$ \\begin{equation}\n",
       "\\frac{ - G \\left( x_2 - 2 G M \\right) M}{x_2^{4}}\n",
       "\\end{equation}\n",
       " $$"
      ],
      "text/plain": [
       "(-G*(x[2] - 2G*M)*M) / (x[2]^4)"
      ]
     },
     "metadata": {},
     "output_type": "display_data"
    },
    {
     "name": "stdout",
     "output_type": "stream",
     "text": [
      "(μ,α,β,γ)=(4,1,4,1)"
     ]
    },
    {
     "data": {
      "text/latex": [
       "$$ \\begin{equation}\n",
       "\\frac{G \\left( x_2 - 2 G M \\right) M}{x_2^{4}}\n",
       "\\end{equation}\n",
       " $$"
      ],
      "text/plain": [
       "(G*(x[2] - 2G*M)*M) / (x[2]^4)"
      ]
     },
     "metadata": {},
     "output_type": "display_data"
    },
    {
     "name": "stdout",
     "output_type": "stream",
     "text": [
      "(μ,α,β,γ)=(4,2,2,4)"
     ]
    },
    {
     "data": {
      "text/latex": [
       "$$ \\begin{equation}\n",
       "\\frac{G M}{x_2^{2} \\left( x_2 - 2 G M \\right)}\n",
       "\\end{equation}\n",
       " $$"
      ],
      "text/plain": [
       "(G*M) / ((x[2] - 2G*M)*(x[2]^2))"
      ]
     },
     "metadata": {},
     "output_type": "display_data"
    },
    {
     "name": "stdout",
     "output_type": "stream",
     "text": [
      "(μ,α,β,γ)=(4,2,4,2)"
     ]
    },
    {
     "data": {
      "text/latex": [
       "$$ \\begin{equation}\n",
       "\\frac{ - G M}{x_2^{2} \\left( x_2 - 2 G M \\right)}\n",
       "\\end{equation}\n",
       " $$"
      ],
      "text/plain": [
       "(-G*M) / ((x[2] - 2G*M)*(x[2]^2))"
      ]
     },
     "metadata": {},
     "output_type": "display_data"
    },
    {
     "name": "stdout",
     "output_type": "stream",
     "text": [
      "(μ,α,β,γ)=(4,3,3,4)"
     ]
    },
    {
     "data": {
      "text/latex": [
       "$$ \\begin{equation}\n",
       "\\frac{ - 2 G M}{x_2}\n",
       "\\end{equation}\n",
       " $$"
      ],
      "text/plain": [
       "((-2//1)*G*M) / x[2]"
      ]
     },
     "metadata": {},
     "output_type": "display_data"
    },
    {
     "name": "stdout",
     "output_type": "stream",
     "text": [
      "(μ,α,β,γ)=(4,3,4,3)"
     ]
    },
    {
     "data": {
      "text/latex": [
       "$$ \\begin{equation}\n",
       "\\frac{2 G M}{x_2}\n",
       "\\end{equation}\n",
       " $$"
      ],
      "text/plain": [
       "((2//1)*G*M) / x[2]"
      ]
     },
     "metadata": {},
     "output_type": "display_data"
    }
   ],
   "source": [
    "for μ in 1:4, α in 1:4, β in 1:4, γ in 1:4\n",
    "  val = R_μ_αβγ[(μ, α, β, γ)];\n",
    "  if !isequal(val, 0)\n",
    "    print(\"(μ,α,β,γ)=\", \"(\", μ, \",\", α, \",\", β, \",\", γ, \")\")\n",
    "    display(val)\n",
    "  end\n",
    "end"
   ]
  },
  {
   "cell_type": "code",
   "execution_count": 16,
   "id": "7b9dc6b4-76da-46d2-914a-26492e2a9fd2",
   "metadata": {},
   "outputs": [],
   "source": [
    "R_αβ = Dict()\n",
    "\n",
    "for α in 1:4, β in 1:4\n",
    "    tmp = sum(R_μ_αβγ[(μ, α, μ, β)] for μ in 1:4)\n",
    "    R_αβ[(α, β)] = simplify(expand_derivatives(tmp))\n",
    "end"
   ]
  },
  {
   "cell_type": "code",
   "execution_count": 17,
   "id": "2e1aefb1-01a4-4539-b07d-da548d64ccd3",
   "metadata": {},
   "outputs": [
    {
     "name": "stdout",
     "output_type": "stream",
     "text": [
      "(α,β)=(4,4)"
     ]
    },
    {
     "data": {
      "text/latex": [
       "$$ \\begin{equation}\n",
       "\\frac{ - \\cos\\left( 2 x_3 \\right) \\sin\\left( x_3 \\right) + \\frac{1}{2} \\cos\\left( x_3 \\right) \\sin\\left( 2 x_3 \\right) - \\sin^{3}\\left( x_3 \\right)}{\\sin\\left( x_3 \\right)}\n",
       "\\end{equation}\n",
       " $$"
      ],
      "text/plain": [
       "(-cos(2x[3])*sin(x[3]) + (1//2)*cos(x[3])*sin(2x[3]) - (sin(x[3])^3)) / sin(x[3])"
      ]
     },
     "metadata": {},
     "output_type": "display_data"
    }
   ],
   "source": [
    "for α in 1:4, β in 1:4\n",
    "  val = R_αβ[(α, β)];\n",
    "  if !isequal(val, 0)\n",
    "    print(\"(α,β)=\", \"(\", α, \",\", β, \")\")\n",
    "    display(val)\n",
    "  end\n",
    "end"
   ]
  },
  {
   "cell_type": "code",
   "execution_count": 18,
   "id": "a3ca8f02-6341-43eb-85d0-0857e0d0000d",
   "metadata": {},
   "outputs": [
    {
     "data": {
      "text/latex": [
       "$$ \\begin{equation}\n",
       "\\frac{ - \\cos\\left( 2 x_3 \\right) \\sin\\left( x_3 \\right) + \\frac{1}{2} \\cos\\left( x_3 \\right) \\sin\\left( 2 x_3 \\right) - \\sin^{3}\\left( x_3 \\right)}{\\sin^{3}\\left( x_3 \\right) x_2^{2}}\n",
       "\\end{equation}\n",
       " $$"
      ],
      "text/plain": [
       "(-cos(2x[3])*sin(x[3]) + (1//2)*cos(x[3])*sin(2x[3]) - (sin(x[3])^3)) / ((x[2]^2)*(sin(x[3])^3))"
      ]
     },
     "execution_count": 18,
     "metadata": {},
     "output_type": "execute_result"
    }
   ],
   "source": [
    "R = simplify(expand_derivatives(sum(g_inv[α, β] * R_μ_αβγ[(μ, α, μ, β)] for α in 1:4 for β in 1:4 for μ in 1:4)))"
   ]
  }
 ],
 "metadata": {
  "kernelspec": {
   "display_name": "Julia 1.9.3",
   "language": "julia",
   "name": "julia-1.9"
  },
  "language_info": {
   "file_extension": ".jl",
   "mimetype": "application/julia",
   "name": "julia",
   "version": "1.9.3"
  }
 },
 "nbformat": 4,
 "nbformat_minor": 5
}
