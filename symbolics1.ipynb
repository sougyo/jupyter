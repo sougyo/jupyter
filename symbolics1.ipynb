{
 "cells": [
  {
   "cell_type": "code",
   "execution_count": 1,
   "id": "f11ddce0-17dd-4be5-8459-71b522adc368",
   "metadata": {},
   "outputs": [],
   "source": [
    "using Symbolics;"
   ]
  },
  {
   "cell_type": "code",
   "execution_count": 2,
   "id": "7048bff8-d345-46c7-8118-53b21aa67715",
   "metadata": {},
   "outputs": [
    {
     "data": {
      "text/latex": [
       "$$ \\begin{equation}\n",
       "\\left[\n",
       "\\begin{array}{c}\n",
       "x \\\\\n",
       "y \\\\\n",
       "z \\\\\n",
       "\\end{array}\n",
       "\\right]\n",
       "\\end{equation}\n",
       " $$"
      ],
      "text/plain": [
       "3-element Vector{Num}:\n",
       " x\n",
       " y\n",
       " z"
      ]
     },
     "execution_count": 2,
     "metadata": {},
     "output_type": "execute_result"
    }
   ],
   "source": [
    "@variables x y z"
   ]
  },
  {
   "cell_type": "code",
   "execution_count": 3,
   "id": "535de2c6-78ef-4de3-b089-db2a0c68c6db",
   "metadata": {},
   "outputs": [
    {
     "data": {
      "text/latex": [
       "$$ \\begin{equation}\n",
       "y + x^{2}\n",
       "\\end{equation}\n",
       " $$"
      ],
      "text/plain": [
       "y + x^2"
      ]
     },
     "execution_count": 3,
     "metadata": {},
     "output_type": "execute_result"
    }
   ],
   "source": [
    "expr = x ^ 2 + y"
   ]
  },
  {
   "cell_type": "code",
   "execution_count": 4,
   "id": "6813f555-4375-4068-9004-3a222e4726c6",
   "metadata": {},
   "outputs": [
    {
     "data": {
      "text/plain": [
       "1-element Vector{Symbolics.Arr{Num, 2}}:\n",
       " u[1:3,1:3]"
      ]
     },
     "execution_count": 4,
     "metadata": {},
     "output_type": "execute_result"
    }
   ],
   "source": [
    "@variables u[1:3,1:3]"
   ]
  },
  {
   "cell_type": "code",
   "execution_count": 5,
   "id": "aff1e953-4cb5-4ef9-9879-e3b6537ccdf6",
   "metadata": {},
   "outputs": [
    {
     "data": {
      "text/latex": [
       "$$ \\begin{equation}\n",
       "u_{1}ˏ_1 + u_{1}ˏ_2\n",
       "\\end{equation}\n",
       " $$"
      ],
      "text/plain": [
       "u[1, 1] + u[1, 2]"
      ]
     },
     "execution_count": 5,
     "metadata": {},
     "output_type": "execute_result"
    }
   ],
   "source": [
    "u[1,1] + u[1,2]"
   ]
  },
  {
   "cell_type": "code",
   "execution_count": 6,
   "id": "71025c0d-6933-4027-bf54-2fad0d19ff9a",
   "metadata": {},
   "outputs": [
    {
     "data": {
      "text/plain": [
       "2-element Vector{Any}:\n",
       " t\n",
       "  (a(x, y, z, t))[1:3,1:3]"
      ]
     },
     "execution_count": 6,
     "metadata": {},
     "output_type": "execute_result"
    }
   ],
   "source": [
    "@variables t, a(x, y, z, t)[1:3,1:3]"
   ]
  },
  {
   "cell_type": "code",
   "execution_count": 7,
   "id": "6e996182-9651-4443-bdb0-ba09c98e6a8d",
   "metadata": {},
   "outputs": [
    {
     "data": {
      "text/latex": [
       "$$ \\begin{equation}\n",
       "a(x, y, z, t)_{1}ˏ_3\n",
       "\\end{equation}\n",
       " $$"
      ],
      "text/plain": [
       "(a(x, y, z, t))[1, 3]"
      ]
     },
     "execution_count": 7,
     "metadata": {},
     "output_type": "execute_result"
    }
   ],
   "source": [
    "a[1,3]"
   ]
  },
  {
   "cell_type": "code",
   "execution_count": 8,
   "id": "466ba5d8-31ac-482a-af85-8fdab97e4cb3",
   "metadata": {},
   "outputs": [
    {
     "data": {
      "text/latex": [
       "$$ \\begin{equation}\n",
       "2 x\n",
       "\\end{equation}\n",
       " $$"
      ],
      "text/plain": [
       "2x"
      ]
     },
     "execution_count": 8,
     "metadata": {},
     "output_type": "execute_result"
    }
   ],
   "source": [
    "substitute(a[1,3] + a[2,3], Dict(a[i,j] => x for i in 1:3, j in 1:3))"
   ]
  },
  {
   "cell_type": "code",
   "execution_count": 9,
   "id": "27574160-ee46-4e06-8ce9-941c2c17a697",
   "metadata": {},
   "outputs": [
    {
     "data": {
      "text/latex": [
       "$$ \\begin{equation}\n",
       "\\frac{\\mathrm{d}}{\\mathrm{d}x} x^{2}\n",
       "\\end{equation}\n",
       " $$"
      ],
      "text/plain": [
       "Differential(x)(x^2)"
      ]
     },
     "execution_count": 9,
     "metadata": {},
     "output_type": "execute_result"
    }
   ],
   "source": [
    "Differential(x)(x^2)"
   ]
  },
  {
   "cell_type": "code",
   "execution_count": 10,
   "id": "3df34aaa-5217-4090-939b-1daced9788a5",
   "metadata": {},
   "outputs": [
    {
     "data": {
      "text/latex": [
       "$$ \\begin{equation}\n",
       "2 x\n",
       "\\end{equation}\n",
       " $$"
      ],
      "text/plain": [
       "2x"
      ]
     },
     "execution_count": 10,
     "metadata": {},
     "output_type": "execute_result"
    }
   ],
   "source": [
    "expand_derivatives(Differential(x)(x^2))"
   ]
  },
  {
   "cell_type": "code",
   "execution_count": 11,
   "id": "214bb293-d0c2-4897-80c9-48cfc007cf45",
   "metadata": {},
   "outputs": [
    {
     "data": {
      "text/plain": [
       "Differential(x)((a(x, y, z, t))[1:3,1:3])"
      ]
     },
     "execution_count": 11,
     "metadata": {},
     "output_type": "execute_result"
    }
   ],
   "source": [
    "Differential(x)(a)"
   ]
  },
  {
   "cell_type": "code",
   "execution_count": 17,
   "id": "d4a7023e-2e4b-45fc-ab25-add141f436df",
   "metadata": {},
   "outputs": [
    {
     "data": {
      "text/plain": [
       "1-element Vector{Symbolics.Arr{Num, 2}}:\n",
       " (A(x, y, z, t))[1:4,1:4]"
      ]
     },
     "execution_count": 17,
     "metadata": {},
     "output_type": "execute_result"
    }
   ],
   "source": [
    "@variables A(x, y, z, t)[1:4, 1:4]"
   ]
  },
  {
   "cell_type": "code",
   "execution_count": 19,
   "id": "f82526bd-9fc5-423a-a3dd-d51fc8551c57",
   "metadata": {},
   "outputs": [
    {
     "data": {
      "text/latex": [
       "$$ \\begin{equation}\n",
       "\\frac{\\mathrm{d}}{\\mathrm{d}x} A(x, y, z, t)_{1}ˏ_1\n",
       "\\end{equation}\n",
       " $$"
      ],
      "text/plain": [
       "Differential(x)((A(x, y, z, t))[1, 1])"
      ]
     },
     "execution_count": 19,
     "metadata": {},
     "output_type": "execute_result"
    }
   ],
   "source": [
    "Differential(x)(A[1,1])"
   ]
  },
  {
   "cell_type": "code",
   "execution_count": null,
   "id": "b3b42d99-b547-4527-8040-1aa7cbede6bb",
   "metadata": {},
   "outputs": [],
   "source": []
  }
 ],
 "metadata": {
  "kernelspec": {
   "display_name": "Julia 1.9.3",
   "language": "julia",
   "name": "julia-1.9"
  },
  "language_info": {
   "file_extension": ".jl",
   "mimetype": "application/julia",
   "name": "julia",
   "version": "1.9.3"
  }
 },
 "nbformat": 4,
 "nbformat_minor": 5
}
