{
 "cells": [
  {
   "cell_type": "code",
   "execution_count": 1,
   "id": "98eefe76-6645-4716-b447-14f9e1183b32",
   "metadata": {},
   "outputs": [
    {
     "name": "stdout",
     "output_type": "stream",
     "text": [
      "[1.0 2.0 3.0; 4.0 5.0 6.0; 7.0 8.0 9.0]\n",
      "[2.0 4.0 6.0; 8.0 10.0 12.0; 14.0 16.0 18.0]\n",
      "0.0\n"
     ]
    }
   ],
   "source": [
    "using Tensors\n",
    "\n",
    "# 2階のテンソルを作成\n",
    "T = Tensor{2, 3, Float64}([1 2 3; 4 5 6; 7 8 9])\n",
    "println(T)\n",
    "\n",
    "# 行列演算\n",
    "println(T + T)       # 加算\n",
    "println(det(T))      # 行列式"
   ]
  },
  {
   "cell_type": "code",
   "execution_count": 2,
   "id": "c74eff3b-8fdf-4d4b-9821-74447c71db4d",
   "metadata": {},
   "outputs": [
    {
     "data": {
      "text/plain": [
       "3×3 Tensor{2, 3, Float64, 9}:\n",
       " 1.0  2.0  3.0\n",
       " 4.0  5.0  6.0\n",
       " 7.0  8.0  9.0"
      ]
     },
     "execution_count": 2,
     "metadata": {},
     "output_type": "execute_result"
    }
   ],
   "source": [
    "T\n"
   ]
  },
  {
   "cell_type": "code",
   "execution_count": 3,
   "id": "d0f92d18-b238-4334-9c47-d5d506ca97b6",
   "metadata": {},
   "outputs": [
    {
     "data": {
      "text/plain": [
       "3×3×3 Tensor{3, 3, Float64, 27}:\n",
       "[:, :, 1] =\n",
       " 1.0  4.0  7.0\n",
       " 2.0  5.0  8.0\n",
       " 3.0  6.0  9.0\n",
       "\n",
       "[:, :, 2] =\n",
       " 10.0  13.0  16.0\n",
       " 11.0  14.0  17.0\n",
       " 12.0  15.0  18.0\n",
       "\n",
       "[:, :, 3] =\n",
       " 19.0  22.0  25.0\n",
       " 20.0  23.0  26.0\n",
       " 21.0  24.0  27.0"
      ]
     },
     "execution_count": 3,
     "metadata": {},
     "output_type": "execute_result"
    }
   ],
   "source": [
    "T = Tensor{3, 3, Float64}([\n",
    "    1,  2,  3,  4,  5,  6,  7,  8,  9,\n",
    "    10, 11, 12, 13, 14, 15, 16, 17, 18,\n",
    "    19, 20, 21, 22, 23, 24, 25, 26, 27\n",
    "])"
   ]
  },
  {
   "cell_type": "code",
   "execution_count": 4,
   "id": "63341642-df99-4b7c-bda6-cef7a607e0a7",
   "metadata": {},
   "outputs": [
    {
     "data": {
      "text/plain": [
       "5×5×5 Array{Float64, 3}:\n",
       "[:, :, 1] =\n",
       "  15.6108    -21.1103      7.54189  -13.7271     7.36737\n",
       "  -0.366541    0.752057   -6.73885   -8.90531  -11.2684\n",
       " -11.7615      1.50415     2.31277   -1.03196  -17.2714\n",
       "  24.2475     -0.656294   -7.60265  -14.8187    -0.0428629\n",
       "  10.4023     18.7409    -20.8992    18.9238     6.5271\n",
       "\n",
       "[:, :, 2] =\n",
       "  7.90661     -9.8769    -13.9871   -0.216374   13.4649\n",
       "  9.6574     -10.3695      7.46386  14.5923      8.16537\n",
       "  3.10036      6.72476   -11.6751    1.43803     3.8055\n",
       " -6.96421     -0.384532   24.4491   -6.4838    -29.8184\n",
       " -0.0995512  -10.8024     12.4477   -1.09157     2.57292\n",
       "\n",
       "[:, :, 3] =\n",
       " -11.5698   -7.88991   18.4788    4.34777   -5.78236\n",
       "   9.29695  -6.49627   21.2844   -8.08845   11.6318\n",
       "   8.0214    3.80913    7.60189  20.3224     6.16843\n",
       "  -1.85518   0.156828  -2.92694  12.1262   -22.0724\n",
       "  -6.51435  16.1203    -3.86535  -7.21054   -4.61012\n",
       "\n",
       "[:, :, 4] =\n",
       "   3.06274  -6.8444     6.57042    5.80456  22.832\n",
       " -16.083     0.601768  -2.32347  -17.1185    2.57603\n",
       " -10.9481    6.461      8.4919   -24.019    -2.26594\n",
       "   9.80586   3.97104   -9.08198    6.56551  18.8553\n",
       "  15.002    -0.423439  -7.9769     4.44531   8.00699\n",
       "\n",
       "[:, :, 5] =\n",
       "  -1.07077   3.60442   -8.6012    10.0743    15.095\n",
       "  -9.97879   3.05748    8.14154   -8.18215   -4.64493\n",
       "  17.4112   -9.94213  -10.3656    33.1944   -21.5766\n",
       " -19.144    16.6576   -16.5321    -5.32646   14.3472\n",
       "   5.2209    6.73405    1.36057  -11.8576     7.74182"
      ]
     },
     "execution_count": 4,
     "metadata": {},
     "output_type": "execute_result"
    }
   ],
   "source": [
    "using TensorOperations\n",
    "α = randn()\n",
    "A = randn(5, 5, 5, 5, 5, 5)\n",
    "B = randn(5, 5, 5)\n",
    "C = randn(5, 5, 5)\n",
    "D = zeros(5, 5, 5)\n",
    "@tensor begin\n",
    "    D[a, b, c] = A[a, e, f, c, f, g] * B[g, b, e] + α * C[c, a, b]\n",
    "    E[a, b, c] := A[a, e, f, c, f, g] * B[g, b, e] + α * C[c, a, b]\n",
    "end"
   ]
  },
  {
   "cell_type": "code",
   "execution_count": 5,
   "id": "a664f2d6-f32b-41ce-8a92-0d0e718781b3",
   "metadata": {},
   "outputs": [
    {
     "data": {
      "text/plain": [
       "5×5×5 Array{Float64, 3}:\n",
       "[:, :, 1] =\n",
       " -0.511334   0.635734  -1.697       0.1496    -2.40672\n",
       " -0.103569  -0.646138   0.0300294  -2.13626    0.884548\n",
       "  0.746606   0.238182   1.3417     -0.317195   0.327054\n",
       " -1.95882   -1.56979   -0.216693   -1.15729    0.545007\n",
       "  0.153176   0.035695  -0.534832    0.392199   0.661379\n",
       "\n",
       "[:, :, 2] =\n",
       " -0.599377   -0.892937  -1.71741   -0.558804  -0.867564\n",
       "  0.0423005  -0.892233   0.920248   1.13301    2.19458\n",
       "  0.496315    0.571815  -1.65839   -1.17113   -1.26835\n",
       " -0.795014    0.391549   0.447971  -3.55826   -0.0103868\n",
       "  0.70684    -1.58528    0.347056   3.17499    1.40607\n",
       "\n",
       "[:, :, 3] =\n",
       " -0.0343819  -0.541987   1.1377     -0.0663477  -0.754356\n",
       " -1.43918    -1.53766   -0.0859285  -0.229342   -1.59855\n",
       "  0.344656   -0.565912   0.18286    -1.03437    -0.212527\n",
       "  0.762481    0.792672  -0.760441   -0.893456    3.35617\n",
       " -1.45608    -0.945236  -0.230508   -0.254386   -0.283505\n",
       "\n",
       "[:, :, 4] =\n",
       "  1.36767   -0.31642    0.280853   0.837234   -1.52239\n",
       " -0.624512   0.172412   0.230348  -0.462066   -0.397428\n",
       " -0.921543   0.656678  -0.13674    0.528854    0.362185\n",
       "  1.20235   -1.29436   -1.75278    0.0370397  -0.344782\n",
       "  0.845501  -2.44607    1.67058   -0.402157   -1.1103\n",
       "\n",
       "[:, :, 5] =\n",
       " -0.0193394   0.560068  -0.202692    0.128247  -1.00255\n",
       " -0.451064    0.750443   0.0219983  -0.280038  -0.377799\n",
       " -0.391525    0.810604  -0.701896   -0.542188  -0.0404083\n",
       "  1.52661    -2.36344   -0.159283   -1.57742    0.0590641\n",
       "  1.18485     0.65222   -0.594696    1.38237    1.11997"
      ]
     },
     "execution_count": 5,
     "metadata": {},
     "output_type": "execute_result"
    }
   ],
   "source": [
    "B"
   ]
  },
  {
   "cell_type": "code",
   "execution_count": 15,
   "id": "f33f84f1-744e-4b11-97fa-4c18179a7f8e",
   "metadata": {},
   "outputs": [
    {
     "name": "stdout",
     "output_type": "stream",
     "text": [
      "z[i, k] = [a*b - a*c + b^2 - b*c 2a*b - a*c + 4(b^2) - 2b*c 3a*b - a*c + 9(b^2) - 3b*c; 2a*b - 2a*c + b^2 - b*c 4a*b - 2a*c + 4(b^2) - 2b*c 6a*b - 2a*c + 9(b^2) - 3b*c; 3a*b - 3a*c + b^2 - b*c 6a*b - 3a*c + 4(b^2) - 2b*c 9a*b - 3a*c + 9(b^2) - 3b*c;;; a*b - 2a*c + b^2 - 2b*c 2a*b - 2a*c + 4(b^2) - 4b*c 3a*b - 2a*c + 9(b^2) - 6b*c; 2a*b - 4a*c + b^2 - 2b*c 4a*b - 4a*c + 4(b^2) - 4b*c 6a*b - 4a*c + 9(b^2) - 6b*c; 3a*b - 6a*c + b^2 - 2b*c 6a*b - 6a*c + 4(b^2) - 4b*c 9a*b - 6a*c + 9(b^2) - 6b*c;;; a*b - 3a*c + b^2 - 3b*c 2a*b - 3a*c + 4(b^2) - 6b*c 3a*b - 3a*c + 9(b^2) - 9b*c; 2a*b - 6a*c + b^2 - 3b*c 4a*b - 6a*c + 4(b^2) - 6b*c 6a*b - 6a*c + 9(b^2) - 9b*c; 3a*b - 9a*c + b^2 - 3b*c 6a*b - 9a*c + 4(b^2) - 6b*c 9a*b - 9a*c + 9(b^2) - 9b*c]\n"
     ]
    }
   ],
   "source": [
    "\n",
    "@variables a b c\n",
    "x_functional = [a * i + b * j for i in 1:3, j in 1:3]\n",
    "y_functional = [b * i - c * j for i in 1:3, j in 1:3]\n",
    "\n",
    "# 縮約計算を明示\n",
    "z = [expand(x_functional[i, j] * y_functional[j, k]) for i in 1:3, j in 1:3, k in 1:3]\n",
    "println(\"z[i, k] = $z\")\n",
    "\n"
   ]
  },
  {
   "cell_type": "code",
   "execution_count": 16,
   "id": "3c3738bf-00d5-4f3a-9c4b-fca0220a0a0f",
   "metadata": {},
   "outputs": [
    {
     "data": {
      "text/latex": [
       "$$ \\begin{equation}\n",
       "x + x^{5} = 1\n",
       "\\end{equation}\n",
       " $$"
      ],
      "text/plain": [
       "x + x^5 ~ 1"
      ]
     },
     "execution_count": 16,
     "metadata": {},
     "output_type": "execute_result"
    }
   ],
   "source": [
    "using Symbolics\n",
    "@variables x\n",
    "quintic = x^5 + x ~ 1"
   ]
  },
  {
   "cell_type": "code",
   "execution_count": 17,
   "id": "7c371a62-9866-4638-afcd-f5cae840f046",
   "metadata": {},
   "outputs": [
    {
     "name": "stdout",
     "output_type": "stream",
     "text": [
      "Newton's method solution: x = 0.7548776662466927\n"
     ]
    }
   ],
   "source": [
    "function solve_newton(eq, x, x₀; abstol=1e-8, maxiters=50)\n",
    "    # symbolic expressions for f(x) and f′(x)\n",
    "    f = eq.lhs - eq.rhs # want to find root of f(x)\n",
    "    f′ = Symbolics.derivative(f, x)\n",
    "\n",
    "    xₙ = x₀ # numerical value of the initial guess\n",
    "    for i = 1:maxiters\n",
    "        # calculate new guess by numerically evaluating symbolic expression at previous guess\n",
    "        xₙ₊₁ = substitute(x - f / f′, x => xₙ)\n",
    "        if abs(xₙ₊₁ - xₙ) < abstol\n",
    "            return xₙ₊₁ # converged\n",
    "        else\n",
    "            xₙ = xₙ₊₁\n",
    "        end\n",
    "    end\n",
    "    error(\"Newton's method failed to converge\")\n",
    "end\n",
    "\n",
    "x_newton = solve_newton(quintic, x, 1.0)\n",
    "println(\"Newton's method solution: x = \", x_newton)"
   ]
  },
  {
   "cell_type": "code",
   "execution_count": 18,
   "id": "926dd466-e523-417b-8a9b-0cc64216b05a",
   "metadata": {},
   "outputs": [
    {
     "name": "stdout",
     "output_type": "stream",
     "text": [
      "z = Num[(a + 3b)*(3b - c) + (a + b)*(b - c) + (a + 2b)*(2b - c) (a + 2b)*(2b - 2c) + (a + 3b)*(3b - 2c) + (a + b)*(b - 2c) (a + b)*(b - 3c) + (a + 3b)*(3b - 3c) + (a + 2b)*(2b - 3c); (2a + 2b)*(2b - c) + (2a + b)*(b - c) + (2a + 3b)*(3b - c) (2a + 2b)*(2b - 2c) + (2a + 3b)*(3b - 2c) + (2a + b)*(b - 2c) (2a + b)*(b - 3c) + (2a + 3b)*(3b - 3c) + (2a + 2b)*(2b - 3c); (3a + 3b)*(3b - c) + (3a + b)*(b - c) + (3a + 2b)*(2b - c) (3a + b)*(b - 2c) + (3a + 3b)*(3b - 2c) + (3a + 2b)*(2b - 2c) (3a + 2b)*(2b - 3c) + (3a + 3b)*(3b - 3c) + (3a + b)*(b - 3c)]\n"
     ]
    }
   ],
   "source": [
    "using Symbolics\n",
    "\n",
    "# シンボリック変数の定義\n",
    "@variables x[1:3, 1:3] y[1:3, 1:3] z[1:3, 1:3]\n",
    "@variables a b c\n",
    "\n",
    "# テンソルの要素をシンボリック式で割り当て\n",
    "x = [a * i + b * j for i in 1:3, j in 1:3]\n",
    "y = [b * i - c * j for i in 1:3, j in 1:3]\n",
    "\n",
    "# 内積計算\n",
    "z = zeros(Symbolics.Num, 3, 3)  # 結果テンソルの初期化\n",
    "for i in 1:3, j in 1:3\n",
    "    z[i, j] = sum(x[i, k] * y[k, j] for k in 1:3)  # 縮約計算\n",
    "end\n",
    "\n",
    "println(\"z = $z\")\n"
   ]
  },
  {
   "cell_type": "code",
   "execution_count": 19,
   "id": "a94f05f9-7b55-462a-8e32-026b02ac4a56",
   "metadata": {},
   "outputs": [
    {
     "name": "stdout",
     "output_type": "stream",
     "text": [
      "Gradient of f: Num[Differential(x)(x^2 + y^2 + z^2), Differential(y)(x^2 + y^2 + z^2), Differential(z)(x^2 + y^2 + z^2)]\n"
     ]
    }
   ],
   "source": [
    "# シンボリック変数の定義\n",
    "@variables x y z\n",
    "\n",
    "# スカラー関数の定義\n",
    "f = x^2 + y^2 + z^2\n",
    "\n",
    "# f の勾配を計算\n",
    "grad_f = [Differential(x)(f), Differential(y)(f), Differential(z)(f)]\n",
    "println(\"Gradient of f: $grad_f\")\n"
   ]
  },
  {
   "cell_type": "code",
   "execution_count": 21,
   "id": "67e09335-d6bd-4243-bf3a-870ed1c688cb",
   "metadata": {},
   "outputs": [
    {
     "name": "stdout",
     "output_type": "stream",
     "text": [
      "Divergence of F: Differential(x)(x^2) + Differential(y)(y^2) + Differential(z)(z^2)\n"
     ]
    }
   ],
   "source": [
    "# ベクトル場の定義\n",
    "F = [x^2, y^2, z^2]\n",
    "\n",
    "# 発散を計算\n",
    "div_F = Differential(x)(F[1]) + Differential(y)(F[2]) + Differential(z)(F[3])\n",
    "println(\"Divergence of F: $div_F\")\n"
   ]
  },
  {
   "cell_type": "code",
   "execution_count": 22,
   "id": "3ac2a2b2-cc67-4f9a-a816-9478a8689676",
   "metadata": {},
   "outputs": [
    {
     "name": "stdout",
     "output_type": "stream",
     "text": [
      "Curl of F: Num[-Differential(z)(y^2) + Differential(y)(z^2), Differential(z)(x^2) - Differential(x)(z^2), -Differential(y)(x^2) + Differential(x)(y^2)]\n"
     ]
    }
   ],
   "source": [
    "# ベクトル場の定義\n",
    "F = [x^2, y^2, z^2]\n",
    "\n",
    "# 回転（カール）を計算\n",
    "curl_F = [\n",
    "    Differential(y)(F[3]) - Differential(z)(F[2]),\n",
    "    Differential(z)(F[1]) - Differential(x)(F[3]),\n",
    "    Differential(x)(F[2]) - Differential(y)(F[1])\n",
    "]\n",
    "println(\"Curl of F: $curl_F\")"
   ]
  },
  {
   "cell_type": "code",
   "execution_count": 24,
   "id": "9a918931-7c66-44a8-87f9-0e65e41afaad",
   "metadata": {},
   "outputs": [
    {
     "name": "stderr",
     "output_type": "stream",
     "text": [
      "\u001b[32m\u001b[1m   Resolving\u001b[22m\u001b[39m package versions...\n",
      "\u001b[32m\u001b[1m   Installed\u001b[22m\u001b[39m ComputedFieldTypes ─ v1.0.2\n",
      "\u001b[32m\u001b[1m   Installed\u001b[22m\u001b[39m DifferentialForms ── v3.2.1\n",
      "\u001b[32m\u001b[1m    Updating\u001b[22m\u001b[39m `/opt/julia/environments/v1.9/Project.toml`\n",
      "  \u001b[90m[9e54b8bf] \u001b[39m\u001b[92m+ DifferentialForms v3.2.1\u001b[39m\n",
      "\u001b[32m\u001b[1m    Updating\u001b[22m\u001b[39m `/opt/julia/environments/v1.9/Manifest.toml`\n",
      "  \u001b[90m[459fdd68] \u001b[39m\u001b[92m+ ComputedFieldTypes v1.0.2\u001b[39m\n",
      "  \u001b[90m[9e54b8bf] \u001b[39m\u001b[92m+ DifferentialForms v3.2.1\u001b[39m\n",
      "\u001b[32m\u001b[1mPrecompiling\u001b[22m\u001b[39m project...\n",
      "\u001b[32m  ✓ \u001b[39m\u001b[90mComputedFieldTypes\u001b[39m\n",
      "\u001b[32m  ✓ \u001b[39mDifferentialForms\n",
      "  2 dependencies successfully precompiled in 62 seconds. 401 already precompiled.\n"
     ]
    }
   ],
   "source": [
    "import Pkg; Pkg.add(\"DifferentialForms\")"
   ]
  },
  {
   "cell_type": "code",
   "execution_count": 43,
   "id": "3d84be67-47e6-4937-8a3c-3b52fb49e51f",
   "metadata": {},
   "outputs": [],
   "source": [
    "using DifferentialForms\n",
    "using Symbolics\n"
   ]
  },
  {
   "cell_type": "code",
   "execution_count": 40,
   "id": "f751b3f3-a232-436f-9be2-fc567706d511",
   "metadata": {},
   "outputs": [
    {
     "data": {
      "text/plain": [
       "Int64{3,1}⟦[1]:1, [2]:2, [3]:3⟧"
      ]
     },
     "execution_count": 40,
     "metadata": {},
     "output_type": "execute_result"
    }
   ],
   "source": [
    "v = Form{3,1}((1, 2, 3))"
   ]
  },
  {
   "cell_type": "code",
   "execution_count": 41,
   "id": "290de81b-43b0-485d-a729-811750df15f6",
   "metadata": {},
   "outputs": [
    {
     "data": {
      "text/plain": [
       "Int64{3,2}⟦[12]:1, [13]:2, [23]:3⟧"
      ]
     },
     "execution_count": 41,
     "metadata": {},
     "output_type": "execute_result"
    }
   ],
   "source": [
    " a = Form{3,2}((1, 2, 3))"
   ]
  },
  {
   "cell_type": "code",
   "execution_count": 42,
   "id": "14f83d79-a779-4ca9-8ab0-18eda120e172",
   "metadata": {},
   "outputs": [
    {
     "data": {
      "text/plain": [
       "Int64{3,3}⟦[123]:2⟧"
      ]
     },
     "execution_count": 42,
     "metadata": {},
     "output_type": "execute_result"
    }
   ],
   "source": [
    "q = v ∧ a"
   ]
  },
  {
   "cell_type": "code",
   "execution_count": 44,
   "id": "3519566e-a90f-4cb3-aa3d-16b10cae4fa9",
   "metadata": {},
   "outputs": [
    {
     "name": "stderr",
     "output_type": "stream",
     "text": [
      "\u001b[32m\u001b[1m   Resolving\u001b[22m\u001b[39m package versions...\n",
      "\u001b[32m\u001b[1m   Installed\u001b[22m\u001b[39m AbstractTensors ── v0.8.8\n",
      "\u001b[32m\u001b[1m   Installed\u001b[22m\u001b[39m StaticVectors ──── v1.0.7\n",
      "\u001b[32m\u001b[1m   Installed\u001b[22m\u001b[39m Leibniz ────────── v0.2.9\n",
      "\u001b[32m\u001b[1m   Installed\u001b[22m\u001b[39m DirectSum ──────── v0.8.17\n",
      "\u001b[32m\u001b[1m   Installed\u001b[22m\u001b[39m Grassmann ──────── v0.8.27\n",
      "\u001b[32m\u001b[1m   Installed\u001b[22m\u001b[39m AbstractLattices ─ v0.3.1\n",
      "\u001b[32m\u001b[1m    Updating\u001b[22m\u001b[39m `/opt/julia/environments/v1.9/Project.toml`\n",
      "  \u001b[90m[4df31cd9] \u001b[39m\u001b[92m+ Grassmann v0.8.27\u001b[39m\n",
      "\u001b[32m\u001b[1m    Updating\u001b[22m\u001b[39m `/opt/julia/environments/v1.9/Manifest.toml`\n",
      "  \u001b[90m[398f06c4] \u001b[39m\u001b[92m+ AbstractLattices v0.3.1\u001b[39m\n",
      "  \u001b[90m[a8e43f4a] \u001b[39m\u001b[92m+ AbstractTensors v0.8.8\u001b[39m\n",
      "  \u001b[90m[22fd7b30] \u001b[39m\u001b[92m+ DirectSum v0.8.17\u001b[39m\n",
      "  \u001b[90m[4df31cd9] \u001b[39m\u001b[92m+ Grassmann v0.8.27\u001b[39m\n",
      "  \u001b[90m[edad4870] \u001b[39m\u001b[92m+ Leibniz v0.2.9\u001b[39m\n",
      "  \u001b[90m[20fadf95] \u001b[39m\u001b[92m+ StaticVectors v1.0.7\u001b[39m\n",
      "\u001b[32m\u001b[1mPrecompiling\u001b[22m\u001b[39m project...\n",
      "\u001b[32m  ✓ \u001b[39m\u001b[90mStaticVectors\u001b[39m\n",
      "\u001b[32m  ✓ \u001b[39m\u001b[90mAbstractLattices\u001b[39m\n",
      "\u001b[32m  ✓ \u001b[39m\u001b[90mAbstractTensors\u001b[39m\n",
      "\u001b[32m  ✓ \u001b[39m\u001b[90mLeibniz\u001b[39m\n",
      "\u001b[32m  ✓ \u001b[39m\u001b[90mDirectSum\u001b[39m\n",
      "\u001b[32m  ✓ \u001b[39mGrassmann\n",
      "  6 dependencies successfully precompiled in 158 seconds. 403 already precompiled.\n"
     ]
    }
   ],
   "source": [
    "Pkg.add(\"Grassmann\")"
   ]
  },
  {
   "cell_type": "code",
   "execution_count": 45,
   "id": "86645eb1-7ba8-4df8-898b-866147e0333c",
   "metadata": {},
   "outputs": [
    {
     "name": "stderr",
     "output_type": "stream",
     "text": [
      "WARNING: using Grassmann.∧ in module Main conflicts with an existing identifier.\n",
      "WARNING: using Grassmann.d in module Main conflicts with an existing identifier.\n",
      "WARNING: using Grassmann.Multivector in module Main conflicts with an existing identifier.\n"
     ]
    }
   ],
   "source": [
    "using Grassmann\n"
   ]
  },
  {
   "cell_type": "code",
   "execution_count": 46,
   "id": "5bd960c7-83df-4630-9f43-76002412fad7",
   "metadata": {},
   "outputs": [
    {
     "data": {
      "text/plain": [
       "DirectSum.Basis{⟨11⟩,4}(v, v₁, v₂, v₁₂)"
      ]
     },
     "execution_count": 46,
     "metadata": {},
     "output_type": "execute_result"
    }
   ],
   "source": [
    "G2=Λ(2)"
   ]
  },
  {
   "cell_type": "code",
   "execution_count": 47,
   "id": "cf2078fa-88e2-49ee-aee1-262608ec22aa",
   "metadata": {},
   "outputs": [
    {
     "data": {
      "text/plain": [
       "2-element Vector{Int64}:\n",
       " 2\n",
       " 1"
      ]
     },
     "execution_count": 47,
     "metadata": {},
     "output_type": "execute_result"
    }
   ],
   "source": [
    "u2=[2,1]"
   ]
  },
  {
   "cell_type": "code",
   "execution_count": 48,
   "id": "f560d5f9-bed5-412e-9e02-d1a980eee67f",
   "metadata": {},
   "outputs": [
    {
     "data": {
      "text/plain": [
       "2-element Vector{Int64}:\n",
       "  1\n",
       " -2"
      ]
     },
     "execution_count": 48,
     "metadata": {},
     "output_type": "execute_result"
    }
   ],
   "source": [
    "w2=[1\n",
    "       -2]\n"
   ]
  }
 ],
 "metadata": {
  "kernelspec": {
   "display_name": "Julia 1.9.3",
   "language": "julia",
   "name": "julia-1.9"
  },
  "language_info": {
   "file_extension": ".jl",
   "mimetype": "application/julia",
   "name": "julia",
   "version": "1.9.3"
  }
 },
 "nbformat": 4,
 "nbformat_minor": 5
}
